{
 "cells": [
  {
   "cell_type": "code",
   "execution_count": null,
   "metadata": {
    "collapsed": false
   },
   "outputs": [],
   "source": [
    "%%html\n",
    "<style>\n",
    "table {float:left}\n",
    "</style>"
   ]
  },
  {
   "cell_type": "code",
   "execution_count": null,
   "metadata": {
    "collapsed": false
   },
   "outputs": [],
   "source": [
    "%%javascript\n",
    "$.getScript('https://kmahelona.github.io/ipython_notebook_goodies/ipython_notebook_toc.js')"
   ]
  },
  {
   "cell_type": "markdown",
   "metadata": {},
   "source": [
    "<h1 id=\"tocheading\">Overview</h1>\n",
    "<div id=\"toc\"></div>"
   ]
  },
  {
   "cell_type": "markdown",
   "metadata": {},
   "source": [
    "## Learning Goals"
   ]
  },
  {
   "cell_type": "markdown",
   "metadata": {},
   "source": [
    "* Learn and understand MongoDB and how to use it from Python\n",
    "* Learn and understand Twitter REST and streaming APIs and how to use them from Python\n",
    "* Understand what Sentiment Analysis is\n",
    "* Build a twitter sentiment mining application\n",
    "* Learn how to deploy a data science product as an API"
   ]
  },
  {
   "cell_type": "markdown",
   "metadata": {},
   "source": [
    "## The Road Ahead"
   ]
  },
  {
   "cell_type": "markdown",
   "metadata": {},
   "source": [
    "* Mining Twitter Sentiment\n",
    "* NBC for Spam and Ham\n",
    "* Kaggle Titanic Competition\n",
    "* SQL in the Wild!"
   ]
  },
  {
   "cell_type": "markdown",
   "metadata": {},
   "source": [
    "## Evaluation Scheme"
   ]
  },
  {
   "cell_type": "markdown",
   "metadata": {},
   "source": [
    "* 10% for submission of Assignment 1 (bdap2015/NoSQL)\n",
    "* 40% for submission of Assignment 2\n",
    "* 50% for final exam"
   ]
  },
  {
   "cell_type": "markdown",
   "metadata": {},
   "source": [
    "## Why Twitter Sentiment Analysis"
   ]
  },
  {
   "cell_type": "markdown",
   "metadata": {},
   "source": [
    "* Twitter - learn to use rest and streaming apis\n",
    "* Twitter - perfect data structure to learn mongodb\n",
    "* Sentiment Analysis - introduction to machine learning and natural language processing\n",
    "* Sentiment Analysis - we'll keep revisiting as we learn more and more sophisticated techniques"
   ]
  },
  {
   "cell_type": "markdown",
   "metadata": {},
   "source": [
    "# Introduction to MongoDB"
   ]
  },
  {
   "cell_type": "markdown",
   "metadata": {},
   "source": [
    "## CRUD"
   ]
  },
  {
   "cell_type": "markdown",
   "metadata": {},
   "source": [
    "### Create/Insert"
   ]
  },
  {
   "cell_type": "markdown",
   "metadata": {
    "collapsed": true
   },
   "source": [
    "    mongo twitter\n",
    "    \n",
    "    db.users.insert({\n",
    "      name: \"Shakuny Mama\",\n",
    "      email: \"shakuni.mama@mahabharata.com\",\n",
    "      age:42\n",
    "    })"
   ]
  },
  {
   "cell_type": "markdown",
   "metadata": {},
   "source": [
    "    show collections"
   ]
  },
  {
   "cell_type": "markdown",
   "metadata": {},
   "source": [
    "    db.users.find()"
   ]
  },
  {
   "cell_type": "markdown",
   "metadata": {},
   "source": [
    "**Notes**\n",
    "* Databases and Collections are lazily created - created when we need them, not when they are defined.\n",
    "* With greater flexibility comes greater responsibility - beware of typos\n",
    "\n",
    "**Note: What is special about _id?**\n",
    "* Auto-generated\n",
    "* Auto-generated vs Auto-incremented\n",
    "* Horizontal Sharding"
   ]
  },
  {
   "cell_type": "markdown",
   "metadata": {},
   "source": [
    "### Read"
   ]
  },
  {
   "cell_type": "markdown",
   "metadata": {
    "collapsed": true
   },
   "source": [
    "    db.users.find({ \"_id\" : ObjectId(\"566a247ddae35821b3a0c523\") })"
   ]
  },
  {
   "cell_type": "markdown",
   "metadata": {},
   "source": [
    "(select fields)\n",
    "\n",
    "    db.users.find({ _id : ObjectId(\"566a247ddae35821b3a0c523\") }, { name : 1 })\n",
    "    db.users.find({ _id : ObjectId(\"566a247ddae35821b3a0c523\") }, { name : 0 }) #omit only name"
   ]
  },
  {
   "cell_type": "markdown",
   "metadata": {},
   "source": [
    "(more sophisticated queries)\n",
    "\n",
    "    db.users.find(\n",
    "        { name : /^P/, age : { $lt : 40 } },\n",
    "        { name : 1, age : 1 }\n",
    "    )"
   ]
  },
  {
   "cell_type": "markdown",
   "metadata": {},
   "source": [
    "(an even more complicated example)\n",
    "\n",
    "    var age_range = {}\n",
    "    age_range['$lt'] = 1000000\n",
    "    age_range['$gt'] = 10000\n",
    "    \n",
    "    db.users.find(\n",
    "        { name : /^P/, age : age_range },\n",
    "        { name: 1 }\n",
    "    )"
   ]
  },
  {
   "cell_type": "markdown",
   "metadata": {},
   "source": [
    "### Update"
   ]
  },
  {
   "cell_type": "markdown",
   "metadata": {
    "collapsed": true
   },
   "source": [
    "    db.users.update(\n",
    "        { _id : ObjectId(\"4d0ada87bb30773266f39fe5\") },\n",
    "        { $set : { \"name\" : \"Something Else\" } }\n",
    "    );"
   ]
  },
  {
   "cell_type": "markdown",
   "metadata": {},
   "source": [
    "### Delete"
   ]
  },
  {
   "cell_type": "markdown",
   "metadata": {
    "collapsed": true
   },
   "source": [
    "    var bad_bacon = {\n",
    "        'exports.foods' : {\n",
    "            $elemMatch : {\n",
    "                name : 'bacon',\n",
    "                tasty : false\n",
    "            }\n",
    "        }\n",
    "    }\n",
    "\n",
    "    db.countries.find( bad_bacon )\n",
    "\n",
    "    db.countries.remove( bad_bacon )\n",
    "    db.countries.count()"
   ]
  },
  {
   "cell_type": "markdown",
   "metadata": {},
   "source": [
    "## JSON"
   ]
  },
  {
   "cell_type": "markdown",
   "metadata": {},
   "source": [
    "<img src=\"mongodb_record_as_json_diag.png\">"
   ]
  },
  {
   "cell_type": "markdown",
   "metadata": {},
   "source": [
    "## A quick comparison"
   ]
  },
  {
   "cell_type": "markdown",
   "metadata": {},
   "source": [
    "<img src=\"sql_vs_mongodb_schema_arrangement.png\">"
   ]
  },
  {
   "cell_type": "markdown",
   "metadata": {},
   "source": [
    "| Concept | SQL | MongoDB |\n",
    "|:---|---|---|\n",
    "| One User                         | One Row                    | One Document |\n",
    "| All Users                        | Users Table                | Users Collection |\n",
    "| One Username Per User (1-to-1)   | Username Column            | Username Property |\n",
    "| Many Emails Per User (1-to-many) | SQL JOIN with Emails Table | Embed relevant email doc in User Document |\n",
    "| Many Items Owned by Many Users (many-tomany) | SQL JOIN with Items Table | Programmatically Join with Items Collection |\n"
   ]
  },
  {
   "cell_type": "markdown",
   "metadata": {},
   "source": [
    "## MongoDB from Python"
   ]
  },
  {
   "cell_type": "markdown",
   "metadata": {},
   "source": [
    "### Connect to database"
   ]
  },
  {
   "cell_type": "code",
   "execution_count": null,
   "metadata": {
    "collapsed": false
   },
   "outputs": [],
   "source": [
    "import sys\n",
    "from pymongo import MongoClient\n",
    "from pymongo.errors import ConnectionFailure\n",
    "\n",
    "def main():\n",
    "    \"\"\" Connect to MongoDB \"\"\"\n",
    "    try:\n",
    "        #Connect to Database\n",
    "        client = MongoClient(host=\"localhost\", port=27017)\n",
    "        print \"Connected successfully\"\n",
    "\n",
    "    except ConnectionFailure, e:\n",
    "        sys.stderr.write(\"Could not connect to MongoDB: %s\" % e)\n",
    "        sys.exit(1)\n",
    "\n",
    "if __name__ == \"__main__\":\n",
    "    main()\n",
    "\n"
   ]
  },
  {
   "cell_type": "code",
   "execution_count": null,
   "metadata": {
    "collapsed": true
   },
   "outputs": [],
   "source": [
    "client = MongoClient('localhost', 27017)\n",
    "\n",
    "# The URI format\n",
    "client = MongoClient('mongodb://localhost:27017/')"
   ]
  },
  {
   "cell_type": "code",
   "execution_count": null,
   "metadata": {
    "collapsed": false
   },
   "outputs": [],
   "source": [
    "import sys\n",
    "from pymongo import MongoClient\n",
    "from pymongo.errors import ConnectionFailure\n",
    "\n",
    "def main():\n",
    "    \"\"\" Connect to MongoDB \"\"\"\n",
    "    try:\n",
    "        #Connect to Database\n",
    "        client = MongoClient(host=\"localhost\", port=27017)\n",
    "        print \"Connected successfully\"\n",
    "        \n",
    "        # Get a Database handle to a database named \"twitterdb\"\n",
    "        dbh = client[\"twitterdb\"]\n",
    "        print \"Successfully set up a database handle\"\n",
    "        \n",
    "    except ConnectionFailure, e:\n",
    "        sys.stderr.write(\"Could not connect to MongoDB: %s\" % e)\n",
    "        sys.exit(1)\n",
    "\n",
    "if __name__ == \"__main__\":\n",
    "    main()\n"
   ]
  },
  {
   "cell_type": "code",
   "execution_count": null,
   "metadata": {
    "collapsed": false
   },
   "outputs": [],
   "source": [
    "client[\"twitterdb\"]"
   ]
  },
  {
   "cell_type": "code",
   "execution_count": null,
   "metadata": {
    "collapsed": false
   },
   "outputs": [],
   "source": [
    "client.twitterdb"
   ]
  },
  {
   "cell_type": "markdown",
   "metadata": {},
   "source": [
    "### Create/Insert"
   ]
  },
  {
   "cell_type": "code",
   "execution_count": null,
   "metadata": {
    "collapsed": false
   },
   "outputs": [],
   "source": [
    "import sys\n",
    "from pymongo import MongoClient\n",
    "from pymongo.errors import ConnectionFailure\n",
    "from datetime import datetime\n",
    "\n",
    "def main():\n",
    "    \"\"\" Connect to MongoDB \"\"\"\n",
    "    try:\n",
    "        #Connect to Database\n",
    "        client = MongoClient(host=\"localhost\", port=27017)\n",
    "        print \"Connected successfully\"\n",
    "        \n",
    "        # Get a Database handle to a database named \"twitterdb\"\n",
    "        dbh = client[\"twitterdb\"]\n",
    "        #assert dbh.connection == c\n",
    "        print \"Successfully set up a database handle\"\n",
    "        \n",
    "    except ConnectionFailure, e:\n",
    "        sys.stderr.write(\"Could not connect to MongoDB: %s\" % e)\n",
    "        sys.exit(1)\n",
    "        \n",
    "    user_doc = {\n",
    "        \"username\" : \"janedoe\",\n",
    "        \"firstname\" : \"Jane\",\n",
    "        \"surname\" : \"Doe\",\n",
    "        \"dateofbirth\" : datetime(1974, 4, 12),\n",
    "        \"email\" : \"janedoe74@example.com\",\n",
    "        \"score\" : 0\n",
    "        }\n",
    "    dbh.users.insert_one(user_doc)\n",
    "    print \"Successfully inserted document: %s\" % user_doc\n",
    "\n",
    "if __name__ == \"__main__\":\n",
    "    main()\n"
   ]
  },
  {
   "cell_type": "markdown",
   "metadata": {},
   "source": [
    "**Notes**\n",
    "* The PyMongo driver supports Python datetime objects (it'll translate between mongodb datetime objects and python datatime objects), which is great for us. We'll not have to translate between the two data structures.\n",
    "* Just like we noted before, we don't have to create our collection “users” before we insert documents to it."
   ]
  },
  {
   "cell_type": "code",
   "execution_count": null,
   "metadata": {
    "collapsed": false
   },
   "outputs": [],
   "source": [
    "result = client.twitterdb.users.insert_one({\n",
    "    \"username\" : \"Pavitra\",\n",
    "    \"firstname\" : \"Pavitra\",\n",
    "    \"surname\" : \"Pravakar\",\n",
    "    \"dateofbirth\" : datetime(1986, 4, 12),\n",
    "    \"email\" : \"spiderman@marvelheroes.com\",\n",
    "    \"score\" : 0\n",
    "})\n",
    "result.inserted_id"
   ]
  },
  {
   "cell_type": "markdown",
   "metadata": {},
   "source": [
    "### Read"
   ]
  },
  {
   "cell_type": "code",
   "execution_count": null,
   "metadata": {
    "collapsed": false
   },
   "outputs": [],
   "source": [
    "user_doc = client.twitterdb.users.find_one({\"username\" : \"janedoe\"})\n",
    "if not user_doc:\n",
    "    print \"no document found for username janedoe\""
   ]
  },
  {
   "cell_type": "code",
   "execution_count": null,
   "metadata": {
    "collapsed": false
   },
   "outputs": [],
   "source": [
    "users = client.twitterdb.users.find({\"username\":\"janedoe\"})\n",
    "for user in users:\n",
    "    print user.get(\"email\")"
   ]
  },
  {
   "cell_type": "markdown",
   "metadata": {
    "collapsed": true
   },
   "source": [
    "### Update"
   ]
  },
  {
   "cell_type": "code",
   "execution_count": null,
   "metadata": {
    "collapsed": true
   },
   "outputs": [],
   "source": [
    "user_doc = {\n",
    "    \"username\" : \"janedoe\",\n",
    "    \"firstname\" : \"Jane\",\n",
    "    \"surname\" : \"Doe\",\n",
    "    \"dateofbirth\" : datetime(1974, 4, 12),\n",
    "    \"email\" : \"janedoe74@example.com\",\n",
    "    \"score\" : 0\n",
    "}"
   ]
  },
  {
   "cell_type": "code",
   "execution_count": null,
   "metadata": {
    "collapsed": false
   },
   "outputs": [],
   "source": [
    "# first query to get a copy of the current document\n",
    "import copy\n",
    "old_user_doc = client.twitterdb.users.find_one({\"username\":\"janedoe\"})\n",
    "new_user_doc = copy.deepcopy(old_user_doc)\n",
    "\n",
    "# modify the copy to change the email address\n",
    "new_user_doc[\"email\"] = \"janedoe74@example2.com\"\n",
    "\n",
    "# run the update query\n",
    "# replace the matched document with the contents of new_user_doc\n",
    "client.twitterdb.users.replace_one({\"username\":\"janedoe\"}, new_user_doc)"
   ]
  },
  {
   "cell_type": "markdown",
   "metadata": {},
   "source": [
    "Building the whole replacement document can be cumbersome, and worse, can introduce race conditions. Imagine you want to increment the score property of the “janedoe” user. In order to achieve this with the replacement approach, you would have to first fetch the document, modify it with the incremented score, then write it back to\n",
    "the database. With that approach, you could easily lose other score changes if something else were to update the score in between you reading and writing it.\n",
    "\n",
    "In order to solve this problem, the update document supports an additional set of MongoDB operators called “update modifiers”. These update modifiers include operators such as atomic increment/decrement, atomic list push/pop and so on. It is very helpful to be aware of which update modifiers are available and what they can do when\n",
    "designing your application."
   ]
  },
  {
   "cell_type": "code",
   "execution_count": null,
   "metadata": {
    "collapsed": false
   },
   "outputs": [],
   "source": [
    "client.twitterdb.users.update_one({\"username\":\"janedoe\"},\n",
    "                {\"$set\":{\"email\":\"janedoe74@example2.com\"}})"
   ]
  },
  {
   "cell_type": "code",
   "execution_count": null,
   "metadata": {
    "collapsed": false
   },
   "outputs": [],
   "source": [
    "client.twitterdb.users.update_one({\"username\":\"janedoe\"},\n",
    "                 {\"$set\":{\"email\":\"janedoe74@example2.com\", \"score\":1}})"
   ]
  },
  {
   "cell_type": "code",
   "execution_count": null,
   "metadata": {
    "collapsed": false
   },
   "outputs": [],
   "source": [
    "result = client.twitterdb.users.update_one({\"username\":\"janedoe\"},\n",
    "                 {\"$set\":{\"email\":\"janedoe74@exple2.com\", \"score\":1}})\n",
    "result.modified_count"
   ]
  },
  {
   "cell_type": "markdown",
   "metadata": {},
   "source": [
    "### Delete"
   ]
  },
  {
   "cell_type": "code",
   "execution_count": null,
   "metadata": {
    "collapsed": false
   },
   "outputs": [],
   "source": [
    "client.twitterdb.users.delete_one({\"score\":1})"
   ]
  },
  {
   "cell_type": "markdown",
   "metadata": {},
   "source": [
    "# The Twitter API in Action"
   ]
  },
  {
   "cell_type": "markdown",
   "metadata": {},
   "source": [
    "## Organization of Twitter Data"
   ]
  },
  {
   "cell_type": "markdown",
   "metadata": {},
   "source": [
    "<img src=\"teamindia_tweet.png\">"
   ]
  },
  {
   "cell_type": "markdown",
   "metadata": {},
   "source": [
    "A Tweet contains:\n",
    "* date and time\n",
    "* links\n",
    "* user mentions (@)\n",
    "* hash tags (#)\n",
    "* retweets count\n",
    "* locale language\n",
    "* favorites count\n",
    "* geocode\n"
   ]
  },
  {
   "cell_type": "markdown",
   "metadata": {},
   "source": [
    "## Accessing Twitter Data"
   ]
  },
  {
   "cell_type": "markdown",
   "metadata": {},
   "source": [
    "### REST API"
   ]
  },
  {
   "cell_type": "markdown",
   "metadata": {},
   "source": [
    "* [Twitter REST API Documentation](https://dev.twitter.com/rest/public)"
   ]
  },
  {
   "cell_type": "markdown",
   "metadata": {},
   "source": [
    "### Streaming API"
   ]
  },
  {
   "cell_type": "markdown",
   "metadata": {},
   "source": [
    "* [Twitter Streaming API Documentation](https://dev.twitter.com/streaming/overview)"
   ]
  },
  {
   "cell_type": "markdown",
   "metadata": {},
   "source": [
    "### OAuth\n",
    "\n",
    "* [Twitter OAuth Documentation](https://dev.twitter.com/oauth)\n",
    "* Instructions for getting access:\n",
    "    - Create a Twitter account\n",
    "    - Go to https://apps.twitter.com/\n",
    "    - Create New App (button on top right corner(-ish))\n",
    "    - Fill out details in the next page. Value of *Website* doesn't matter right now (use http://google.com). Create your Twitter application.\n",
    "    - In the next screen, select the *KeyandAccessTokens* tab.\n",
    "    - Note down the following credentials:\n",
    "        * Consumer Key (API Key)\n",
    "        * Consumer Secret (API Secret)\n",
    "    - Click on *Create my access token*. After tokens are generated, note down the following credentials:\n",
    "        * Access Token\n",
    "        * Access Token Secret\n",
    "    - Add the credentials to *.profile*\n",
    "        * .profile vs .bashrc vs .Renviron"
   ]
  },
  {
   "cell_type": "markdown",
   "metadata": {},
   "source": [
    "## Introduction to Twython"
   ]
  },
  {
   "cell_type": "markdown",
   "metadata": {},
   "source": [
    "    pip install twython"
   ]
  },
  {
   "cell_type": "markdown",
   "metadata": {},
   "source": [
    "* [Official Twython Documentation](https://twython.readthedocs.org/en/latest/)\n",
    "* Supports both REST and Streaming APIs\n",
    "* For more wrappers, see https://dev.twitter.com/overview/api/twitter-libraries"
   ]
  },
  {
   "cell_type": "markdown",
   "metadata": {},
   "source": [
    "### Searching by Topic"
   ]
  },
  {
   "cell_type": "code",
   "execution_count": 1,
   "metadata": {
    "collapsed": false
   },
   "outputs": [],
   "source": [
    "import os\n",
    "TWITTER_CONSUMER_KEY = os.environ[\"TWITTER_CONSUMER_KEY\"]\n",
    "TWITTER_CONSUMER_SECRET = os.environ[\"TWITTER_CONSUMER_SECRET\"]\n",
    "TWITTER_ACCESS_TOKEN = os.environ[\"TWITTER_ACCESS_TOKEN\"]\n",
    "TWITTER_ACCESS_TOKEN_SECRET = os.environ[\"TWITTER_ACCESS_TOKEN_SECRET\"]"
   ]
  },
  {
   "cell_type": "code",
   "execution_count": 2,
   "metadata": {
    "collapsed": false
   },
   "outputs": [],
   "source": [
    "from twython import Twython\n",
    "twitter = Twython(TWITTER_CONSUMER_KEY, TWITTER_CONSUMER_SECRET, TWITTER_ACCESS_TOKEN, TWITTER_ACCESS_TOKEN_SECRET)"
   ]
  },
  {
   "cell_type": "code",
   "execution_count": 6,
   "metadata": {
    "collapsed": false
   },
   "outputs": [],
   "source": [
    "result = twitter.search(q=\"Salman Khan\")"
   ]
  },
  {
   "cell_type": "markdown",
   "metadata": {},
   "source": [
    "**Note**\n",
    "* If Twython fails to authenticate, result will have the following json as its value:\n",
    "        {\"errors\":[{\"message\":\"Bad Authentication data\", \"code\":215}]}\n",
    "* If successful, Twython will convert the JSON it receives to a native python object."
   ]
  },
  {
   "cell_type": "code",
   "execution_count": 7,
   "metadata": {
    "collapsed": false
   },
   "outputs": [
    {
     "name": "stdout",
     "output_type": "stream",
     "text": [
      "{u'contributors': None, u'truncated': False, u'text': u'RT @taran_adarsh: No, #Sultan is NOT postponed to Diwali 2016. Confirmed for Eid 2016. Which means, #Sultan [Salman Khan] versus #Raees [SR\\u2026', u'is_quote_status': False, u'in_reply_to_status_id': None, u'id': 679621794853187584, u'favorite_count': 0, u'source': u'<a href=\"http://twitter.com/download/iphone\" rel=\"nofollow\">Twitter for iPhone</a>', u'retweeted': False, u'coordinates': None, u'entities': {u'symbols': [], u'user_mentions': [{u'id': 99642673, u'indices': [3, 16], u'id_str': u'99642673', u'screen_name': u'taran_adarsh', u'name': u'taran adarsh'}], u'hashtags': [{u'indices': [22, 29], u'text': u'Sultan'}, {u'indices': [100, 107], u'text': u'Sultan'}, {u'indices': [129, 135], u'text': u'Raees'}], u'urls': []}, u'in_reply_to_screen_name': None, u'in_reply_to_user_id': None, u'retweet_count': 286, u'id_str': u'679621794853187584', u'favorited': False, u'retweeted_status': {u'contributors': None, u'truncated': False, u'text': u'No, #Sultan is NOT postponed to Diwali 2016. Confirmed for Eid 2016. Which means, #Sultan [Salman Khan] versus #Raees [SRK] clash is on!', u'is_quote_status': False, u'in_reply_to_status_id': None, u'id': 679618992504487937, u'favorite_count': 250, u'source': u'<a href=\"http://twitter.com/#!/download/ipad\" rel=\"nofollow\">Twitter for iPad</a>', u'retweeted': False, u'coordinates': None, u'entities': {u'symbols': [], u'user_mentions': [], u'hashtags': [{u'indices': [4, 11], u'text': u'Sultan'}, {u'indices': [82, 89], u'text': u'Sultan'}, {u'indices': [111, 117], u'text': u'Raees'}], u'urls': []}, u'in_reply_to_screen_name': None, u'in_reply_to_user_id': None, u'retweet_count': 286, u'id_str': u'679618992504487937', u'favorited': False, u'user': {u'follow_request_sent': False, u'has_extended_profile': True, u'profile_use_background_image': True, u'default_profile_image': False, u'id': 99642673, u'profile_background_image_url_https': u'https://pbs.twimg.com/profile_background_images/129904606/29770_118811484812320_118811254812343_223437_5193831_n.jpg', u'verified': True, u'profile_text_color': u'080000', u'profile_image_url_https': u'https://pbs.twimg.com/profile_images/1440352704/profile_pic_taran_normal.jpg', u'profile_sidebar_fill_color': u'FCFCFC', u'entities': {u'description': {u'urls': []}}, u'followers_count': 1185240, u'profile_sidebar_border_color': u'FFFFFF', u'id_str': u'99642673', u'profile_background_color': u'FCFCFC', u'listed_count': 2493, u'is_translation_enabled': False, u'utc_offset': 19800, u'statuses_count': 22063, u'description': u'Film trade analyst. Bollywood Hungama.', u'friends_count': 196, u'location': u'Mumbai, India', u'profile_link_color': u'E30917', u'profile_image_url': u'http://pbs.twimg.com/profile_images/1440352704/profile_pic_taran_normal.jpg', u'following': False, u'geo_enabled': True, u'profile_banner_url': u'https://pbs.twimg.com/profile_banners/99642673/1450691979', u'profile_background_image_url': u'http://pbs.twimg.com/profile_background_images/129904606/29770_118811484812320_118811254812343_223437_5193831_n.jpg', u'screen_name': u'taran_adarsh', u'lang': u'en', u'profile_background_tile': True, u'favourites_count': 18, u'name': u'taran adarsh', u'notifications': False, u'url': None, u'created_at': u'Sun Dec 27 04:56:11 +0000 2009', u'contributors_enabled': False, u'time_zone': u'Mumbai', u'protected': False, u'default_profile': False, u'is_translator': False}, u'geo': None, u'in_reply_to_user_id_str': None, u'lang': u'en', u'created_at': u'Wed Dec 23 11:06:09 +0000 2015', u'in_reply_to_status_id_str': None, u'place': None, u'metadata': {u'iso_language_code': u'en', u'result_type': u'recent'}}, u'user': {u'follow_request_sent': False, u'has_extended_profile': False, u'profile_use_background_image': True, u'default_profile_image': False, u'id': 69196918, u'profile_background_image_url_https': u'https://pbs.twimg.com/profile_background_images/32358065/mqmountainwaterfalls.br.jpg', u'verified': False, u'profile_text_color': u'111111', u'profile_image_url_https': u'https://pbs.twimg.com/profile_images/3312059443/8b5a59be70a85302f8719c069d52940c_normal.jpeg', u'profile_sidebar_fill_color': u'EFECEB', u'entities': {u'description': {u'urls': []}}, u'followers_count': 183, u'profile_sidebar_border_color': u'5A9400', u'id_str': u'69196918', u'profile_background_color': u'000000', u'listed_count': 7, u'is_translation_enabled': False, u'utc_offset': 18000, u'statuses_count': 16701, u'description': u'', u'friends_count': 290, u'location': u'Hyderabad', u'profile_link_color': u'5A9400', u'profile_image_url': u'http://pbs.twimg.com/profile_images/3312059443/8b5a59be70a85302f8719c069d52940c_normal.jpeg', u'following': False, u'geo_enabled': True, u'profile_background_image_url': u'http://pbs.twimg.com/profile_background_images/32358065/mqmountainwaterfalls.br.jpg', u'screen_name': u'ZaidFeroz', u'lang': u'en', u'profile_background_tile': False, u'favourites_count': 124, u'name': u'Zaid Feroz Memon', u'notifications': False, u'url': None, u'created_at': u'Thu Aug 27 04:10:20 +0000 2009', u'contributors_enabled': False, u'time_zone': u'Karachi', u'protected': False, u'default_profile': False, u'is_translator': False}, u'geo': None, u'in_reply_to_user_id_str': None, u'lang': u'en', u'created_at': u'Wed Dec 23 11:17:17 +0000 2015', u'in_reply_to_status_id_str': None, u'place': None, u'metadata': {u'iso_language_code': u'en', u'result_type': u'recent'}}\n",
      "{u'contributors': None, u'truncated': False, u'text': u\"RT @Queen_Ritu: Maharashtra To Challenge Salman Khan's Acquittal In Hit-And-Run Case: The Maharashtra government will move Sup... https://t\\u2026\", u'is_quote_status': False, u'in_reply_to_status_id': None, u'id': 679621774204514306, u'favorite_count': 0, u'source': u'<a href=\"http://twitter.com/download/android\" rel=\"nofollow\">Twitter for Android</a>', u'retweeted': False, u'coordinates': None, u'entities': {u'symbols': [], u'user_mentions': [{u'id': 771437269, u'indices': [3, 14], u'id_str': u'771437269', u'screen_name': u'Queen_Ritu', u'name': u'Ritu Agrawal'}], u'hashtags': [], u'urls': [{u'url': u'https://t.co/XSx89Nqj6Z', u'indices': [139, 140], u'expanded_url': u'http://bit.ly/1YABEbH', u'display_url': u'bit.ly/1YABEbH'}]}, u'in_reply_to_screen_name': None, u'in_reply_to_user_id': None, u'retweet_count': 1, u'id_str': u'679621774204514306', u'favorited': False, u'retweeted_status': {u'contributors': None, u'truncated': False, u'text': u\"Maharashtra To Challenge Salman Khan's Acquittal In Hit-And-Run Case: The Maharashtra government will move Sup... https://t.co/XSx89Nqj6Z\", u'is_quote_status': False, u'in_reply_to_status_id': None, u'id': 679590761868836864, u'favorite_count': 1, u'source': u'<a href=\"http://twitterfeed.com\" rel=\"nofollow\">twitterfeed</a>', u'retweeted': False, u'coordinates': None, u'entities': {u'symbols': [], u'user_mentions': [], u'hashtags': [], u'urls': [{u'url': u'https://t.co/XSx89Nqj6Z', u'indices': [114, 137], u'expanded_url': u'http://bit.ly/1YABEbH', u'display_url': u'bit.ly/1YABEbH'}]}, u'in_reply_to_screen_name': None, u'in_reply_to_user_id': None, u'retweet_count': 1, u'id_str': u'679590761868836864', u'favorited': False, u'user': {u'follow_request_sent': False, u'has_extended_profile': False, u'profile_use_background_image': True, u'default_profile_image': False, u'id': 771437269, u'profile_background_image_url_https': u'https://pbs.twimg.com/profile_background_images/740737111/6b7a962037162b8ec11e1ed7d3787770.jpeg', u'verified': False, u'profile_text_color': u'2280A9', u'profile_image_url_https': u'https://pbs.twimg.com/profile_images/2796211258/a39d981cdea40f5737ef62ac18b202d0_normal.jpeg', u'profile_sidebar_fill_color': u'020812', u'entities': {u'description': {u'urls': []}}, u'followers_count': 3427, u'profile_sidebar_border_color': u'FFFFFF', u'id_str': u'771437269', u'profile_background_color': u'020812', u'listed_count': 53, u'is_translation_enabled': False, u'utc_offset': -25200, u'statuses_count': 69935, u'description': u'Business Woman', u'friends_count': 927, u'location': u'World', u'profile_link_color': u'17406C', u'profile_image_url': u'http://pbs.twimg.com/profile_images/2796211258/a39d981cdea40f5737ef62ac18b202d0_normal.jpeg', u'following': False, u'geo_enabled': False, u'profile_banner_url': u'https://pbs.twimg.com/profile_banners/771437269/1402592956', u'profile_background_image_url': u'http://pbs.twimg.com/profile_background_images/740737111/6b7a962037162b8ec11e1ed7d3787770.jpeg', u'screen_name': u'Queen_Ritu', u'lang': u'en', u'profile_background_tile': False, u'favourites_count': 0, u'name': u'Ritu Agrawal', u'notifications': False, u'url': None, u'created_at': u'Tue Aug 21 12:37:25 +0000 2012', u'contributors_enabled': False, u'time_zone': u'Mountain Time (US & Canada)', u'protected': False, u'default_profile': False, u'is_translator': False}, u'geo': None, u'in_reply_to_user_id_str': None, u'possibly_sensitive': False, u'lang': u'en', u'created_at': u'Wed Dec 23 09:13:58 +0000 2015', u'in_reply_to_status_id_str': None, u'place': None, u'metadata': {u'iso_language_code': u'en', u'result_type': u'recent'}}, u'user': {u'follow_request_sent': False, u'has_extended_profile': True, u'profile_use_background_image': True, u'default_profile_image': False, u'id': 3259644500, u'profile_background_image_url_https': u'https://abs.twimg.com/images/themes/theme1/bg.png', u'verified': False, u'profile_text_color': u'333333', u'profile_image_url_https': u'https://pbs.twimg.com/profile_images/676828491149500416/fQkFSV22_normal.jpg', u'profile_sidebar_fill_color': u'DDEEF6', u'entities': {u'description': {u'urls': []}}, u'followers_count': 778, u'profile_sidebar_border_color': u'C0DEED', u'id_str': u'3259644500', u'profile_background_color': u'C0DEED', u'listed_count': 9, u'is_translation_enabled': False, u'utc_offset': -28800, u'statuses_count': 16802, u'description': u'\\u0938\\u092d\\u0940 \\u092e\\u093f\\u0924\\u094d\\u0930\\u094b\\u0902 (\\u0915\\u094b\\u0908 \\u092d\\u0940 \\u092a\\u093e\\u0930\\u094d\\u091f\\u0940\\u0915\\u093e \\u0939\\u094b) \\u0915\\u093e \\u0938\\u094d\\u0935\\u093e\\u0917\\u0924 \\u0939\\u0948\\u0902 \\u0932\\u0947\\u0915\\u093f\\u0928 \\u0905\\u0936\\u094d\\u0932\\u0940\\u0932 \\u092d\\u0915\\u094d\\u0924\\u094b\\u0902 \\u0915\\u094b \\u0938\\u0940\\u0927\\u093e \\u092c\\u094d\\u0932\\u0949\\u0915 \\u0915\\u093f\\u092f\\u093e \\u091c\\u093e\\u090f\\u0917\\u093e', u'friends_count': 514, u'location': u'New Delhi, Delhi', u'profile_link_color': u'0084B4', u'profile_image_url': u'http://pbs.twimg.com/profile_images/676828491149500416/fQkFSV22_normal.jpg', u'following': False, u'geo_enabled': False, u'profile_background_image_url': u'http://abs.twimg.com/images/themes/theme1/bg.png', u'screen_name': u'AAPAgent', u'lang': u'en', u'profile_background_tile': False, u'favourites_count': 8031, u'name': u'#CowardModi', u'notifications': False, u'url': None, u'created_at': u'Mon Jun 29 06:38:37 +0000 2015', u'contributors_enabled': False, u'time_zone': u'Pacific Time (US & Canada)', u'protected': False, u'default_profile': True, u'is_translator': False}, u'geo': None, u'in_reply_to_user_id_str': None, u'possibly_sensitive': False, u'lang': u'en', u'created_at': u'Wed Dec 23 11:17:12 +0000 2015', u'in_reply_to_status_id_str': None, u'place': None, u'metadata': {u'iso_language_code': u'en', u'result_type': u'recent'}}\n",
      "{u'contributors': None, u'truncated': False, u'text': u'RT @taran_adarsh: No, #Sultan is NOT postponed to Diwali 2016. Confirmed for Eid 2016. Which means, #Sultan [Salman Khan] versus #Raees [SR\\u2026', u'is_quote_status': False, u'in_reply_to_status_id': None, u'id': 679621738812944384, u'favorite_count': 0, u'source': u'<a href=\"http://twitter.com/download/android\" rel=\"nofollow\">Twitter for Android</a>', u'retweeted': False, u'coordinates': None, u'entities': {u'symbols': [], u'user_mentions': [{u'id': 99642673, u'indices': [3, 16], u'id_str': u'99642673', u'screen_name': u'taran_adarsh', u'name': u'taran adarsh'}], u'hashtags': [{u'indices': [22, 29], u'text': u'Sultan'}, {u'indices': [100, 107], u'text': u'Sultan'}, {u'indices': [129, 135], u'text': u'Raees'}], u'urls': []}, u'in_reply_to_screen_name': None, u'in_reply_to_user_id': None, u'retweet_count': 286, u'id_str': u'679621738812944384', u'favorited': False, u'retweeted_status': {u'contributors': None, u'truncated': False, u'text': u'No, #Sultan is NOT postponed to Diwali 2016. Confirmed for Eid 2016. Which means, #Sultan [Salman Khan] versus #Raees [SRK] clash is on!', u'is_quote_status': False, u'in_reply_to_status_id': None, u'id': 679618992504487937, u'favorite_count': 250, u'source': u'<a href=\"http://twitter.com/#!/download/ipad\" rel=\"nofollow\">Twitter for iPad</a>', u'retweeted': False, u'coordinates': None, u'entities': {u'symbols': [], u'user_mentions': [], u'hashtags': [{u'indices': [4, 11], u'text': u'Sultan'}, {u'indices': [82, 89], u'text': u'Sultan'}, {u'indices': [111, 117], u'text': u'Raees'}], u'urls': []}, u'in_reply_to_screen_name': None, u'in_reply_to_user_id': None, u'retweet_count': 286, u'id_str': u'679618992504487937', u'favorited': False, u'user': {u'follow_request_sent': False, u'has_extended_profile': True, u'profile_use_background_image': True, u'default_profile_image': False, u'id': 99642673, u'profile_background_image_url_https': u'https://pbs.twimg.com/profile_background_images/129904606/29770_118811484812320_118811254812343_223437_5193831_n.jpg', u'verified': True, u'profile_text_color': u'080000', u'profile_image_url_https': u'https://pbs.twimg.com/profile_images/1440352704/profile_pic_taran_normal.jpg', u'profile_sidebar_fill_color': u'FCFCFC', u'entities': {u'description': {u'urls': []}}, u'followers_count': 1185240, u'profile_sidebar_border_color': u'FFFFFF', u'id_str': u'99642673', u'profile_background_color': u'FCFCFC', u'listed_count': 2493, u'is_translation_enabled': False, u'utc_offset': 19800, u'statuses_count': 22063, u'description': u'Film trade analyst. Bollywood Hungama.', u'friends_count': 196, u'location': u'Mumbai, India', u'profile_link_color': u'E30917', u'profile_image_url': u'http://pbs.twimg.com/profile_images/1440352704/profile_pic_taran_normal.jpg', u'following': False, u'geo_enabled': True, u'profile_banner_url': u'https://pbs.twimg.com/profile_banners/99642673/1450691979', u'profile_background_image_url': u'http://pbs.twimg.com/profile_background_images/129904606/29770_118811484812320_118811254812343_223437_5193831_n.jpg', u'screen_name': u'taran_adarsh', u'lang': u'en', u'profile_background_tile': True, u'favourites_count': 18, u'name': u'taran adarsh', u'notifications': False, u'url': None, u'created_at': u'Sun Dec 27 04:56:11 +0000 2009', u'contributors_enabled': False, u'time_zone': u'Mumbai', u'protected': False, u'default_profile': False, u'is_translator': False}, u'geo': None, u'in_reply_to_user_id_str': None, u'lang': u'en', u'created_at': u'Wed Dec 23 11:06:09 +0000 2015', u'in_reply_to_status_id_str': None, u'place': None, u'metadata': {u'iso_language_code': u'en', u'result_type': u'recent'}}, u'user': {u'follow_request_sent': False, u'has_extended_profile': False, u'profile_use_background_image': True, u'default_profile_image': False, u'id': 775799054, u'profile_background_image_url_https': u'https://abs.twimg.com/images/themes/theme1/bg.png', u'verified': False, u'profile_text_color': u'333333', u'profile_image_url_https': u'https://pbs.twimg.com/profile_images/602062830884425730/xGidsGhq_normal.jpg', u'profile_sidebar_fill_color': u'DDEEF6', u'entities': {u'description': {u'urls': []}}, u'followers_count': 139, u'profile_sidebar_border_color': u'C0DEED', u'id_str': u'775799054', u'profile_background_color': u'C0DEED', u'listed_count': 2, u'is_translation_enabled': False, u'utc_offset': None, u'statuses_count': 3430, u'description': u'', u'friends_count': 85, u'location': u'India.Kolhapur   ', u'profile_link_color': u'0084B4', u'profile_image_url': u'http://pbs.twimg.com/profile_images/602062830884425730/xGidsGhq_normal.jpg', u'following': False, u'geo_enabled': False, u'profile_banner_url': u'https://pbs.twimg.com/profile_banners/775799054/1445424577', u'profile_background_image_url': u'http://abs.twimg.com/images/themes/theme1/bg.png', u'screen_name': u'iamrajesh555', u'lang': u'en', u'profile_background_tile': False, u'favourites_count': 610, u'name': u'Rajesh Gurnani', u'notifications': False, u'url': None, u'created_at': u'Thu Aug 23 11:53:14 +0000 2012', u'contributors_enabled': False, u'time_zone': None, u'protected': False, u'default_profile': True, u'is_translator': False}, u'geo': None, u'in_reply_to_user_id_str': None, u'lang': u'en', u'created_at': u'Wed Dec 23 11:17:03 +0000 2015', u'in_reply_to_status_id_str': None, u'place': None, u'metadata': {u'iso_language_code': u'en', u'result_type': u'recent'}}\n",
      "{u'contributors': None, u'truncated': False, u'text': u'Hit-and-run nightmare to haunt BeingSalmanKhan again; Maha govt to move SC against his acquittal\\n\\nhttps://t.co/2qKS2afCDj', u'is_quote_status': False, u'in_reply_to_status_id': None, u'id': 679621732160958464, u'favorite_count': 0, u'source': u'<a href=\"http://ifttt.com\" rel=\"nofollow\">IFTTT</a>', u'retweeted': False, u'coordinates': None, u'entities': {u'symbols': [], u'user_mentions': [], u'hashtags': [], u'urls': [{u'url': u'https://t.co/2qKS2afCDj', u'indices': [98, 121], u'expanded_url': u'http://www.oneindia.com/india/hit-and-run-nightmare-haunt-salman-khan-again-maha-govt-move-sc-against-acquittal-1964394.html', u'display_url': u'oneindia.com/india/hit-and-\\u2026'}]}, u'in_reply_to_screen_name': None, u'in_reply_to_user_id': None, u'retweet_count': 0, u'id_str': u'679621732160958464', u'favorited': False, u'user': {u'follow_request_sent': False, u'has_extended_profile': False, u'profile_use_background_image': True, u'default_profile_image': False, u'id': 3311544058, u'profile_background_image_url_https': u'https://abs.twimg.com/images/themes/theme1/bg.png', u'verified': False, u'profile_text_color': u'333333', u'profile_image_url_https': u'https://pbs.twimg.com/profile_images/618405156833529856/MobeKXgD_normal.jpg', u'profile_sidebar_fill_color': u'DDEEF6', u'entities': {u'description': {u'urls': []}}, u'followers_count': 107, u'profile_sidebar_border_color': u'C0DEED', u'id_str': u'3311544058', u'profile_background_color': u'C0DEED', u'listed_count': 25, u'is_translation_enabled': False, u'utc_offset': None, u'statuses_count': 5232, u'description': u'Macho Indian, Hindu Nationalist', u'friends_count': 117, u'location': u'Karnataka, India', u'profile_link_color': u'0084B4', u'profile_image_url': u'http://pbs.twimg.com/profile_images/618405156833529856/MobeKXgD_normal.jpg', u'following': False, u'geo_enabled': False, u'profile_background_image_url': u'http://abs.twimg.com/images/themes/theme1/bg.png', u'screen_name': u'ChemElsy', u'lang': u'en', u'profile_background_tile': False, u'favourites_count': 433, u'name': u'Elsy Chem', u'notifications': False, u'url': None, u'created_at': u'Sun Jun 07 04:24:20 +0000 2015', u'contributors_enabled': False, u'time_zone': None, u'protected': False, u'default_profile': True, u'is_translator': False}, u'geo': None, u'in_reply_to_user_id_str': None, u'possibly_sensitive': False, u'lang': u'en', u'created_at': u'Wed Dec 23 11:17:02 +0000 2015', u'in_reply_to_status_id_str': None, u'place': None, u'metadata': {u'iso_language_code': u'en', u'result_type': u'recent'}}\n",
      "{u'contributors': None, u'truncated': False, u'text': u\"RT @airnewsalerts: Maharashtra to file appeal in SC against Salman Khan's acquittal in 2002 hit and run case: Govt tells Bombay High Court \\u2026\", u'is_quote_status': False, u'in_reply_to_status_id': None, u'id': 679621731531657217, u'favorite_count': 0, u'source': u'<a href=\"http://twitter.com/download/iphone\" rel=\"nofollow\">Twitter for iPhone</a>', u'retweeted': False, u'coordinates': None, u'entities': {u'symbols': [], u'user_mentions': [{u'id': 1056850669, u'indices': [3, 17], u'id_str': u'1056850669', u'screen_name': u'airnewsalerts', u'name': u'All India Radio News'}], u'hashtags': [], u'urls': []}, u'in_reply_to_screen_name': None, u'in_reply_to_user_id': None, u'retweet_count': 22, u'id_str': u'679621731531657217', u'favorited': False, u'retweeted_status': {u'contributors': None, u'truncated': False, u'text': u\"Maharashtra to file appeal in SC against Salman Khan's acquittal in 2002 hit and run case: Govt tells Bombay High Court - PTI\", u'is_quote_status': False, u'in_reply_to_status_id': None, u'id': 679578501595320320, u'favorite_count': 10, u'source': u'<a href=\"http://twitter.com\" rel=\"nofollow\">Twitter Web Client</a>', u'retweeted': False, u'coordinates': None, u'entities': {u'symbols': [], u'user_mentions': [], u'hashtags': [], u'urls': []}, u'in_reply_to_screen_name': None, u'in_reply_to_user_id': None, u'retweet_count': 22, u'id_str': u'679578501595320320', u'favorited': False, u'user': {u'follow_request_sent': False, u'has_extended_profile': False, u'profile_use_background_image': True, u'default_profile_image': False, u'id': 1056850669, u'profile_background_image_url_https': u'https://pbs.twimg.com/profile_background_images/548000907774812160/EnKX58U6.jpeg', u'verified': True, u'profile_text_color': u'333333', u'profile_image_url_https': u'https://pbs.twimg.com/profile_images/637299422859149312/yxZISTyR_normal.jpg', u'profile_sidebar_fill_color': u'DDEEF6', u'entities': {u'url': {u'urls': [{u'url': u'http://t.co/CifVDe3aw7', u'indices': [0, 22], u'expanded_url': u'http://newsonair.nic.in', u'display_url': u'newsonair.nic.in'}]}, u'description': {u'urls': []}}, u'followers_count': 759798, u'profile_sidebar_border_color': u'000000', u'id_str': u'1056850669', u'profile_background_color': u'666655', u'listed_count': 1332, u'is_translation_enabled': False, u'utc_offset': 19800, u'statuses_count': 91663, u'description': u'Official account of News Services Division, All India Radio.', u'friends_count': 10, u'location': u'New Delhi, India', u'profile_link_color': u'467895', u'profile_image_url': u'http://pbs.twimg.com/profile_images/637299422859149312/yxZISTyR_normal.jpg', u'following': False, u'geo_enabled': False, u'profile_banner_url': u'https://pbs.twimg.com/profile_banners/1056850669/1450661179', u'profile_background_image_url': u'http://pbs.twimg.com/profile_background_images/548000907774812160/EnKX58U6.jpeg', u'screen_name': u'airnewsalerts', u'lang': u'en', u'profile_background_tile': True, u'favourites_count': 201, u'name': u'All India Radio News', u'notifications': False, u'url': u'http://t.co/CifVDe3aw7', u'created_at': u'Thu Jan 03 04:15:45 +0000 2013', u'contributors_enabled': False, u'time_zone': u'New Delhi', u'protected': False, u'default_profile': False, u'is_translator': False}, u'geo': None, u'in_reply_to_user_id_str': None, u'lang': u'en', u'created_at': u'Wed Dec 23 08:25:15 +0000 2015', u'in_reply_to_status_id_str': None, u'place': None, u'metadata': {u'iso_language_code': u'en', u'result_type': u'recent'}}, u'user': {u'follow_request_sent': False, u'has_extended_profile': False, u'profile_use_background_image': False, u'default_profile_image': False, u'id': 26461628, u'profile_background_image_url_https': u'https://pbs.twimg.com/profile_background_images/54099327/C.jpg', u'verified': False, u'profile_text_color': u'333333', u'profile_image_url_https': u'https://pbs.twimg.com/profile_images/669068528868196352/_HAHsGa7_normal.jpg', u'profile_sidebar_fill_color': u'DDEEF6', u'entities': {u'description': {u'urls': []}}, u'followers_count': 1848, u'profile_sidebar_border_color': u'C0DEED', u'id_str': u'26461628', u'profile_background_color': u'C0DEED', u'listed_count': 312, u'is_translation_enabled': False, u'utc_offset': 19800, u'statuses_count': 651706, u'description': u'', u'friends_count': 796, u'location': u'India', u'profile_link_color': u'0084B4', u'profile_image_url': u'http://pbs.twimg.com/profile_images/669068528868196352/_HAHsGa7_normal.jpg', u'following': False, u'geo_enabled': False, u'profile_background_image_url': u'http://pbs.twimg.com/profile_background_images/54099327/C.jpg', u'screen_name': u'rohitagarwal86', u'lang': u'en', u'profile_background_tile': True, u'favourites_count': 594112, u'name': u'Rohit Kumar Agarwal', u'notifications': False, u'url': None, u'created_at': u'Wed Mar 25 09:19:50 +0000 2009', u'contributors_enabled': False, u'time_zone': u'Chennai', u'protected': False, u'default_profile': False, u'is_translator': False}, u'geo': None, u'in_reply_to_user_id_str': None, u'lang': u'en', u'created_at': u'Wed Dec 23 11:17:02 +0000 2015', u'in_reply_to_status_id_str': None, u'place': None, u'metadata': {u'iso_language_code': u'en', u'result_type': u'recent'}}\n",
      "{u'contributors': None, u'truncated': False, u'text': u'RT @indiatvnews: Salman \\u2018Being Human\\u2019 Khan to start clean up drive, rehabilitate slum kids on 50th birthday https://t.co/HI8yGclu57 https:/\\u2026', u'is_quote_status': False, u'in_reply_to_status_id': None, u'id': 679621723826733056, u'favorite_count': 0, u'source': u'<a href=\"http://twitter.com/download/android\" rel=\"nofollow\">Twitter for Android</a>', u'retweeted': False, u'coordinates': None, u'entities': {u'symbols': [], u'user_mentions': [{u'id': 34245009, u'indices': [3, 15], u'id_str': u'34245009', u'screen_name': u'indiatvnews', u'name': u'India TV'}], u'hashtags': [], u'urls': [{u'url': u'https://t.co/HI8yGclu57', u'indices': [108, 131], u'expanded_url': u'http://www.indiatvnews.com/entertainment/bollywood/salman-khan-launch-clean-up-drive-birthday-25914.html?k', u'display_url': u'indiatvnews.com/entertainment/\\u2026'}], u'media': [{u'source_user_id': 34245009, u'source_status_id_str': u'679304893169930240', u'expanded_url': u'http://twitter.com/indiatvnews/status/679304893169930240/photo/1', u'display_url': u'pic.twitter.com/W7sD9poY30', u'url': u'https://t.co/W7sD9poY30', u'media_url_https': u'https://pbs.twimg.com/media/CW1gMy3UYAAc6b6.jpg', u'source_user_id_str': u'34245009', u'source_status_id': 679304893169930240, u'id_str': u'679304891731304448', u'sizes': {u'small': {u'h': 238, u'resize': u'fit', u'w': 340}, u'large': {u'h': 441, u'resize': u'fit', u'w': 628}, u'medium': {u'h': 421, u'resize': u'fit', u'w': 600}, u'thumb': {u'h': 150, u'resize': u'crop', u'w': 150}}, u'indices': [139, 140], u'type': u'photo', u'id': 679304891731304448, u'media_url': u'http://pbs.twimg.com/media/CW1gMy3UYAAc6b6.jpg'}]}, u'in_reply_to_screen_name': None, u'in_reply_to_user_id': None, u'retweet_count': 177, u'id_str': u'679621723826733056', u'favorited': False, u'retweeted_status': {u'contributors': None, u'truncated': False, u'text': u'Salman \\u2018Being Human\\u2019 Khan to start clean up drive, rehabilitate slum kids on 50th birthday https://t.co/HI8yGclu57 https://t.co/W7sD9poY30', u'is_quote_status': False, u'in_reply_to_status_id': None, u'id': 679304893169930240, u'favorite_count': 159, u'source': u'<a href=\"http://twitter.com\" rel=\"nofollow\">Twitter Web Client</a>', u'retweeted': False, u'coordinates': None, u'entities': {u'symbols': [], u'user_mentions': [], u'hashtags': [], u'urls': [{u'url': u'https://t.co/HI8yGclu57', u'indices': [91, 114], u'expanded_url': u'http://www.indiatvnews.com/entertainment/bollywood/salman-khan-launch-clean-up-drive-birthday-25914.html?k', u'display_url': u'indiatvnews.com/entertainment/\\u2026'}], u'media': [{u'expanded_url': u'http://twitter.com/indiatvnews/status/679304893169930240/photo/1', u'display_url': u'pic.twitter.com/W7sD9poY30', u'url': u'https://t.co/W7sD9poY30', u'media_url_https': u'https://pbs.twimg.com/media/CW1gMy3UYAAc6b6.jpg', u'id_str': u'679304891731304448', u'sizes': {u'small': {u'h': 238, u'resize': u'fit', u'w': 340}, u'large': {u'h': 441, u'resize': u'fit', u'w': 628}, u'medium': {u'h': 421, u'resize': u'fit', u'w': 600}, u'thumb': {u'h': 150, u'resize': u'crop', u'w': 150}}, u'indices': [115, 138], u'type': u'photo', u'id': 679304891731304448, u'media_url': u'http://pbs.twimg.com/media/CW1gMy3UYAAc6b6.jpg'}]}, u'in_reply_to_screen_name': None, u'in_reply_to_user_id': None, u'retweet_count': 177, u'id_str': u'679304893169930240', u'favorited': False, u'user': {u'follow_request_sent': False, u'has_extended_profile': False, u'profile_use_background_image': True, u'default_profile_image': False, u'id': 34245009, u'profile_background_image_url_https': u'https://abs.twimg.com/images/themes/theme16/bg.gif', u'verified': True, u'profile_text_color': u'333333', u'profile_image_url_https': u'https://pbs.twimg.com/profile_images/438346326007234560/YyvWcpAf_normal.jpeg', u'profile_sidebar_fill_color': u'DDFFCC', u'entities': {u'url': {u'urls': [{u'url': u'http://t.co/Bq0bhTSN8X', u'indices': [0, 22], u'expanded_url': u'http://www.indiatvnews.com', u'display_url': u'indiatvnews.com'}]}, u'description': {u'urls': []}}, u'followers_count': 67512, u'profile_sidebar_border_color': u'BDDCAD', u'id_str': u'34245009', u'profile_background_color': u'9AE4E8', u'listed_count': 429, u'is_translation_enabled': False, u'utc_offset': 19800, u'statuses_count': 208930, u'description': u'Official IndiaTV Twitter Handle. India\\u2019s most watched Hindi News Channel. Follow for latest/breaking News Alerts from all over India.', u'friends_count': 54, u'location': u'India', u'profile_link_color': u'0084B4', u'profile_image_url': u'http://pbs.twimg.com/profile_images/438346326007234560/YyvWcpAf_normal.jpeg', u'following': False, u'geo_enabled': False, u'profile_banner_url': u'https://pbs.twimg.com/profile_banners/34245009/1447308058', u'profile_background_image_url': u'http://abs.twimg.com/images/themes/theme16/bg.gif', u'screen_name': u'indiatvnews', u'lang': u'en', u'profile_background_tile': False, u'favourites_count': 37, u'name': u'India TV', u'notifications': False, u'url': u'http://t.co/Bq0bhTSN8X', u'created_at': u'Wed Apr 22 11:26:34 +0000 2009', u'contributors_enabled': False, u'time_zone': u'New Delhi', u'protected': False, u'default_profile': False, u'is_translator': False}, u'geo': None, u'in_reply_to_user_id_str': None, u'possibly_sensitive': False, u'lang': u'en', u'created_at': u'Tue Dec 22 14:18:02 +0000 2015', u'in_reply_to_status_id_str': None, u'place': None, u'metadata': {u'iso_language_code': u'en', u'result_type': u'recent'}}, u'user': {u'follow_request_sent': False, u'has_extended_profile': False, u'profile_use_background_image': True, u'default_profile_image': False, u'id': 588301779, u'profile_background_image_url_https': u'https://abs.twimg.com/images/themes/theme10/bg.gif', u'verified': False, u'profile_text_color': u'3D1957', u'profile_image_url_https': u'https://pbs.twimg.com/profile_images/438642755959398400/qvjB9d4J_normal.jpeg', u'profile_sidebar_fill_color': u'7AC3EE', u'entities': {u'description': {u'urls': []}}, u'followers_count': 400, u'profile_sidebar_border_color': u'65B0DA', u'id_str': u'588301779', u'profile_background_color': u'642D8B', u'listed_count': 4, u'is_translation_enabled': False, u'utc_offset': 18000, u'statuses_count': 21151, u'description': u'Am a girl who wants to remain a BIG salman khan fan , as long as I live and after . .....', u'friends_count': 130, u'location': u'', u'profile_link_color': u'FF0000', u'profile_image_url': u'http://pbs.twimg.com/profile_images/438642755959398400/qvjB9d4J_normal.jpeg', u'following': False, u'geo_enabled': True, u'profile_background_image_url': u'http://abs.twimg.com/images/themes/theme10/bg.gif', u'screen_name': u'APrem', u'lang': u'en', u'profile_background_tile': True, u'favourites_count': 9, u'name': u'amaanath prem', u'notifications': False, u'url': None, u'created_at': u'Wed May 23 11:38:00 +0000 2012', u'contributors_enabled': False, u'time_zone': u'Islamabad', u'protected': False, u'default_profile': False, u'is_translator': False}, u'geo': None, u'in_reply_to_user_id_str': None, u'possibly_sensitive': False, u'lang': u'en', u'created_at': u'Wed Dec 23 11:17:00 +0000 2015', u'in_reply_to_status_id_str': None, u'place': None, u'metadata': {u'iso_language_code': u'en', u'result_type': u'recent'}}\n",
      "{u'contributors': None, u'truncated': False, u'text': u'RT @taran_adarsh: No, #Sultan is NOT postponed to Diwali 2016. Confirmed for Eid 2016. Which means, #Sultan [Salman Khan] versus #Raees [SR\\u2026', u'is_quote_status': False, u'in_reply_to_status_id': None, u'id': 679621704797294592, u'favorite_count': 0, u'source': u'<a href=\"http://twitter.com/download/android\" rel=\"nofollow\">Twitter for Android</a>', u'retweeted': False, u'coordinates': None, u'entities': {u'symbols': [], u'user_mentions': [{u'id': 99642673, u'indices': [3, 16], u'id_str': u'99642673', u'screen_name': u'taran_adarsh', u'name': u'taran adarsh'}], u'hashtags': [{u'indices': [22, 29], u'text': u'Sultan'}, {u'indices': [100, 107], u'text': u'Sultan'}, {u'indices': [129, 135], u'text': u'Raees'}], u'urls': []}, u'in_reply_to_screen_name': None, u'in_reply_to_user_id': None, u'retweet_count': 286, u'id_str': u'679621704797294592', u'favorited': False, u'retweeted_status': {u'contributors': None, u'truncated': False, u'text': u'No, #Sultan is NOT postponed to Diwali 2016. Confirmed for Eid 2016. Which means, #Sultan [Salman Khan] versus #Raees [SRK] clash is on!', u'is_quote_status': False, u'in_reply_to_status_id': None, u'id': 679618992504487937, u'favorite_count': 250, u'source': u'<a href=\"http://twitter.com/#!/download/ipad\" rel=\"nofollow\">Twitter for iPad</a>', u'retweeted': False, u'coordinates': None, u'entities': {u'symbols': [], u'user_mentions': [], u'hashtags': [{u'indices': [4, 11], u'text': u'Sultan'}, {u'indices': [82, 89], u'text': u'Sultan'}, {u'indices': [111, 117], u'text': u'Raees'}], u'urls': []}, u'in_reply_to_screen_name': None, u'in_reply_to_user_id': None, u'retweet_count': 286, u'id_str': u'679618992504487937', u'favorited': False, u'user': {u'follow_request_sent': False, u'has_extended_profile': True, u'profile_use_background_image': True, u'default_profile_image': False, u'id': 99642673, u'profile_background_image_url_https': u'https://pbs.twimg.com/profile_background_images/129904606/29770_118811484812320_118811254812343_223437_5193831_n.jpg', u'verified': True, u'profile_text_color': u'080000', u'profile_image_url_https': u'https://pbs.twimg.com/profile_images/1440352704/profile_pic_taran_normal.jpg', u'profile_sidebar_fill_color': u'FCFCFC', u'entities': {u'description': {u'urls': []}}, u'followers_count': 1185240, u'profile_sidebar_border_color': u'FFFFFF', u'id_str': u'99642673', u'profile_background_color': u'FCFCFC', u'listed_count': 2493, u'is_translation_enabled': False, u'utc_offset': 19800, u'statuses_count': 22063, u'description': u'Film trade analyst. Bollywood Hungama.', u'friends_count': 196, u'location': u'Mumbai, India', u'profile_link_color': u'E30917', u'profile_image_url': u'http://pbs.twimg.com/profile_images/1440352704/profile_pic_taran_normal.jpg', u'following': False, u'geo_enabled': True, u'profile_banner_url': u'https://pbs.twimg.com/profile_banners/99642673/1450691979', u'profile_background_image_url': u'http://pbs.twimg.com/profile_background_images/129904606/29770_118811484812320_118811254812343_223437_5193831_n.jpg', u'screen_name': u'taran_adarsh', u'lang': u'en', u'profile_background_tile': True, u'favourites_count': 18, u'name': u'taran adarsh', u'notifications': False, u'url': None, u'created_at': u'Sun Dec 27 04:56:11 +0000 2009', u'contributors_enabled': False, u'time_zone': u'Mumbai', u'protected': False, u'default_profile': False, u'is_translator': False}, u'geo': None, u'in_reply_to_user_id_str': None, u'lang': u'en', u'created_at': u'Wed Dec 23 11:06:09 +0000 2015', u'in_reply_to_status_id_str': None, u'place': None, u'metadata': {u'iso_language_code': u'en', u'result_type': u'recent'}}, u'user': {u'follow_request_sent': False, u'has_extended_profile': False, u'profile_use_background_image': True, u'default_profile_image': False, u'id': 560954632, u'profile_background_image_url_https': u'https://pbs.twimg.com/profile_background_images/675698618750410752/cofefyZ2.jpg', u'verified': False, u'profile_text_color': u'333333', u'profile_image_url_https': u'https://pbs.twimg.com/profile_images/673104686715662336/woBlla6Q_normal.jpg', u'profile_sidebar_fill_color': u'DDEEF6', u'entities': {u'description': {u'urls': []}}, u'followers_count': 2789, u'profile_sidebar_border_color': u'000000', u'id_str': u'560954632', u'profile_background_color': u'741226', u'listed_count': 63, u'is_translation_enabled': False, u'utc_offset': 19800, u'statuses_count': 175190, u'description': u'My inspirations are: SRK, Aamir, Fawad, Shahid, Ranveer and many more! ( love Deepika, Anushka, Priyanka, Aishwarya, Lisa... )', u'friends_count': 355, u'location': u'France', u'profile_link_color': u'555555', u'profile_image_url': u'http://pbs.twimg.com/profile_images/673104686715662336/woBlla6Q_normal.jpg', u'following': False, u'geo_enabled': True, u'profile_banner_url': u'https://pbs.twimg.com/profile_banners/560954632/1445789773', u'profile_background_image_url': u'http://pbs.twimg.com/profile_background_images/675698618750410752/cofefyZ2.jpg', u'screen_name': u'IyanAmjad', u'lang': u'fr', u'profile_background_tile': True, u'favourites_count': 73538, u'name': u'Iyan', u'notifications': False, u'url': None, u'created_at': u'Mon Apr 23 08:52:09 +0000 2012', u'contributors_enabled': False, u'time_zone': u'Mumbai', u'protected': False, u'default_profile': False, u'is_translator': False}, u'geo': None, u'in_reply_to_user_id_str': None, u'lang': u'en', u'created_at': u'Wed Dec 23 11:16:55 +0000 2015', u'in_reply_to_status_id_str': None, u'place': None, u'metadata': {u'iso_language_code': u'en', u'result_type': u'recent'}}\n",
      "{u'contributors': None, u'truncated': False, u'text': u'RT @taran_adarsh: No, #Sultan is NOT postponed to Diwali 2016. Confirmed for Eid 2016. Which means, #Sultan [Salman Khan] versus #Raees [SR\\u2026', u'is_quote_status': False, u'in_reply_to_status_id': None, u'id': 679621701412368384, u'favorite_count': 0, u'source': u'<a href=\"http://twitter.com/download/android\" rel=\"nofollow\">Twitter for Android</a>', u'retweeted': False, u'coordinates': None, u'entities': {u'symbols': [], u'user_mentions': [{u'id': 99642673, u'indices': [3, 16], u'id_str': u'99642673', u'screen_name': u'taran_adarsh', u'name': u'taran adarsh'}], u'hashtags': [{u'indices': [22, 29], u'text': u'Sultan'}, {u'indices': [100, 107], u'text': u'Sultan'}, {u'indices': [129, 135], u'text': u'Raees'}], u'urls': []}, u'in_reply_to_screen_name': None, u'in_reply_to_user_id': None, u'retweet_count': 286, u'id_str': u'679621701412368384', u'favorited': False, u'retweeted_status': {u'contributors': None, u'truncated': False, u'text': u'No, #Sultan is NOT postponed to Diwali 2016. Confirmed for Eid 2016. Which means, #Sultan [Salman Khan] versus #Raees [SRK] clash is on!', u'is_quote_status': False, u'in_reply_to_status_id': None, u'id': 679618992504487937, u'favorite_count': 250, u'source': u'<a href=\"http://twitter.com/#!/download/ipad\" rel=\"nofollow\">Twitter for iPad</a>', u'retweeted': False, u'coordinates': None, u'entities': {u'symbols': [], u'user_mentions': [], u'hashtags': [{u'indices': [4, 11], u'text': u'Sultan'}, {u'indices': [82, 89], u'text': u'Sultan'}, {u'indices': [111, 117], u'text': u'Raees'}], u'urls': []}, u'in_reply_to_screen_name': None, u'in_reply_to_user_id': None, u'retweet_count': 286, u'id_str': u'679618992504487937', u'favorited': False, u'user': {u'follow_request_sent': False, u'has_extended_profile': True, u'profile_use_background_image': True, u'default_profile_image': False, u'id': 99642673, u'profile_background_image_url_https': u'https://pbs.twimg.com/profile_background_images/129904606/29770_118811484812320_118811254812343_223437_5193831_n.jpg', u'verified': True, u'profile_text_color': u'080000', u'profile_image_url_https': u'https://pbs.twimg.com/profile_images/1440352704/profile_pic_taran_normal.jpg', u'profile_sidebar_fill_color': u'FCFCFC', u'entities': {u'description': {u'urls': []}}, u'followers_count': 1185240, u'profile_sidebar_border_color': u'FFFFFF', u'id_str': u'99642673', u'profile_background_color': u'FCFCFC', u'listed_count': 2493, u'is_translation_enabled': False, u'utc_offset': 19800, u'statuses_count': 22063, u'description': u'Film trade analyst. Bollywood Hungama.', u'friends_count': 196, u'location': u'Mumbai, India', u'profile_link_color': u'E30917', u'profile_image_url': u'http://pbs.twimg.com/profile_images/1440352704/profile_pic_taran_normal.jpg', u'following': False, u'geo_enabled': True, u'profile_banner_url': u'https://pbs.twimg.com/profile_banners/99642673/1450691979', u'profile_background_image_url': u'http://pbs.twimg.com/profile_background_images/129904606/29770_118811484812320_118811254812343_223437_5193831_n.jpg', u'screen_name': u'taran_adarsh', u'lang': u'en', u'profile_background_tile': True, u'favourites_count': 18, u'name': u'taran adarsh', u'notifications': False, u'url': None, u'created_at': u'Sun Dec 27 04:56:11 +0000 2009', u'contributors_enabled': False, u'time_zone': u'Mumbai', u'protected': False, u'default_profile': False, u'is_translator': False}, u'geo': None, u'in_reply_to_user_id_str': None, u'lang': u'en', u'created_at': u'Wed Dec 23 11:06:09 +0000 2015', u'in_reply_to_status_id_str': None, u'place': None, u'metadata': {u'iso_language_code': u'en', u'result_type': u'recent'}}, u'user': {u'follow_request_sent': False, u'has_extended_profile': True, u'profile_use_background_image': True, u'default_profile_image': False, u'id': 145162632, u'profile_background_image_url_https': u'https://abs.twimg.com/images/themes/theme9/bg.gif', u'verified': False, u'profile_text_color': u'666666', u'profile_image_url_https': u'https://pbs.twimg.com/profile_images/677109950166884353/n-Swlzbt_normal.png', u'profile_sidebar_fill_color': u'252429', u'entities': {u'url': {u'urls': [{u'url': u'https://t.co/d9f2p8IqUv', u'indices': [0, 23], u'expanded_url': u'http://www.facebook.com/onlysanket.bhosale', u'display_url': u'facebook.com/onlysanket.bho\\u2026'}]}, u'description': {u'urls': []}}, u'followers_count': 837, u'profile_sidebar_border_color': u'181A1E', u'id_str': u'145162632', u'profile_background_color': u'1A1B1F', u'listed_count': 20, u'is_translation_enabled': False, u'utc_offset': 19800, u'statuses_count': 19169, u'description': u'1992 Virgo || THE #BUDDHIST || Ek PuneKar || Aspiring B.E (Electronics & Communication) || A Huge Die Hard @iamsrk Fan || The Proud member of @TKKFCOfficial ||', u'friends_count': 2237, u'location': u'Pune, Maharashtra', u'profile_link_color': u'2FC2EF', u'profile_image_url': u'http://pbs.twimg.com/profile_images/677109950166884353/n-Swlzbt_normal.png', u'following': False, u'geo_enabled': True, u'profile_banner_url': u'https://pbs.twimg.com/profile_banners/145162632/1449588493', u'profile_background_image_url': u'http://abs.twimg.com/images/themes/theme9/bg.gif', u'screen_name': u'KinglySRK', u'lang': u'en', u'profile_background_tile': False, u'favourites_count': 18964, u'name': u'\\u2764wale Winning Hearts', u'notifications': False, u'url': u'https://t.co/d9f2p8IqUv', u'created_at': u'Tue May 18 08:00:06 +0000 2010', u'contributors_enabled': False, u'time_zone': u'Chennai', u'protected': False, u'default_profile': False, u'is_translator': False}, u'geo': None, u'in_reply_to_user_id_str': None, u'lang': u'en', u'created_at': u'Wed Dec 23 11:16:55 +0000 2015', u'in_reply_to_status_id_str': None, u'place': None, u'metadata': {u'iso_language_code': u'en', u'result_type': u'recent'}}\n",
      "{u'contributors': None, u'truncated': False, u'text': u'RT @taran_adarsh: No, #Sultan is NOT postponed to Diwali 2016. Confirmed for Eid 2016. Which means, #Sultan [Salman Khan] versus #Raees [SR\\u2026', u'is_quote_status': False, u'in_reply_to_status_id': None, u'id': 679621700925825024, u'favorite_count': 0, u'source': u'<a href=\"http://twitter.com/download/android\" rel=\"nofollow\">Twitter for Android</a>', u'retweeted': False, u'coordinates': None, u'entities': {u'symbols': [], u'user_mentions': [{u'id': 99642673, u'indices': [3, 16], u'id_str': u'99642673', u'screen_name': u'taran_adarsh', u'name': u'taran adarsh'}], u'hashtags': [{u'indices': [22, 29], u'text': u'Sultan'}, {u'indices': [100, 107], u'text': u'Sultan'}, {u'indices': [129, 135], u'text': u'Raees'}], u'urls': []}, u'in_reply_to_screen_name': None, u'in_reply_to_user_id': None, u'retweet_count': 286, u'id_str': u'679621700925825024', u'favorited': False, u'retweeted_status': {u'contributors': None, u'truncated': False, u'text': u'No, #Sultan is NOT postponed to Diwali 2016. Confirmed for Eid 2016. Which means, #Sultan [Salman Khan] versus #Raees [SRK] clash is on!', u'is_quote_status': False, u'in_reply_to_status_id': None, u'id': 679618992504487937, u'favorite_count': 250, u'source': u'<a href=\"http://twitter.com/#!/download/ipad\" rel=\"nofollow\">Twitter for iPad</a>', u'retweeted': False, u'coordinates': None, u'entities': {u'symbols': [], u'user_mentions': [], u'hashtags': [{u'indices': [4, 11], u'text': u'Sultan'}, {u'indices': [82, 89], u'text': u'Sultan'}, {u'indices': [111, 117], u'text': u'Raees'}], u'urls': []}, u'in_reply_to_screen_name': None, u'in_reply_to_user_id': None, u'retweet_count': 286, u'id_str': u'679618992504487937', u'favorited': False, u'user': {u'follow_request_sent': False, u'has_extended_profile': True, u'profile_use_background_image': True, u'default_profile_image': False, u'id': 99642673, u'profile_background_image_url_https': u'https://pbs.twimg.com/profile_background_images/129904606/29770_118811484812320_118811254812343_223437_5193831_n.jpg', u'verified': True, u'profile_text_color': u'080000', u'profile_image_url_https': u'https://pbs.twimg.com/profile_images/1440352704/profile_pic_taran_normal.jpg', u'profile_sidebar_fill_color': u'FCFCFC', u'entities': {u'description': {u'urls': []}}, u'followers_count': 1185240, u'profile_sidebar_border_color': u'FFFFFF', u'id_str': u'99642673', u'profile_background_color': u'FCFCFC', u'listed_count': 2493, u'is_translation_enabled': False, u'utc_offset': 19800, u'statuses_count': 22063, u'description': u'Film trade analyst. Bollywood Hungama.', u'friends_count': 196, u'location': u'Mumbai, India', u'profile_link_color': u'E30917', u'profile_image_url': u'http://pbs.twimg.com/profile_images/1440352704/profile_pic_taran_normal.jpg', u'following': False, u'geo_enabled': True, u'profile_banner_url': u'https://pbs.twimg.com/profile_banners/99642673/1450691979', u'profile_background_image_url': u'http://pbs.twimg.com/profile_background_images/129904606/29770_118811484812320_118811254812343_223437_5193831_n.jpg', u'screen_name': u'taran_adarsh', u'lang': u'en', u'profile_background_tile': True, u'favourites_count': 18, u'name': u'taran adarsh', u'notifications': False, u'url': None, u'created_at': u'Sun Dec 27 04:56:11 +0000 2009', u'contributors_enabled': False, u'time_zone': u'Mumbai', u'protected': False, u'default_profile': False, u'is_translator': False}, u'geo': None, u'in_reply_to_user_id_str': None, u'lang': u'en', u'created_at': u'Wed Dec 23 11:06:09 +0000 2015', u'in_reply_to_status_id_str': None, u'place': None, u'metadata': {u'iso_language_code': u'en', u'result_type': u'recent'}}, u'user': {u'follow_request_sent': False, u'has_extended_profile': False, u'profile_use_background_image': True, u'default_profile_image': False, u'id': 4419643754, u'profile_background_image_url_https': u'https://abs.twimg.com/images/themes/theme1/bg.png', u'verified': False, u'profile_text_color': u'333333', u'profile_image_url_https': u'https://pbs.twimg.com/profile_images/673567306434220032/q_n62qel_normal.jpg', u'profile_sidebar_fill_color': u'DDEEF6', u'entities': {u'description': {u'urls': []}}, u'followers_count': 9, u'profile_sidebar_border_color': u'C0DEED', u'id_str': u'4419643754', u'profile_background_color': u'C0DEED', u'listed_count': 0, u'is_translation_enabled': False, u'utc_offset': None, u'statuses_count': 356, u'description': u'', u'friends_count': 40, u'location': u'', u'profile_link_color': u'0084B4', u'profile_image_url': u'http://pbs.twimg.com/profile_images/673567306434220032/q_n62qel_normal.jpg', u'following': False, u'geo_enabled': False, u'profile_banner_url': u'https://pbs.twimg.com/profile_banners/4419643754/1449425928', u'profile_background_image_url': u'http://abs.twimg.com/images/themes/theme1/bg.png', u'screen_name': u'iam__shareef', u'lang': u'en', u'profile_background_tile': False, u'favourites_count': 34, u'name': u'Sultan', u'notifications': False, u'url': None, u'created_at': u'Tue Dec 01 10:49:23 +0000 2015', u'contributors_enabled': False, u'time_zone': None, u'protected': False, u'default_profile': True, u'is_translator': False}, u'geo': None, u'in_reply_to_user_id_str': None, u'lang': u'en', u'created_at': u'Wed Dec 23 11:16:54 +0000 2015', u'in_reply_to_status_id_str': None, u'place': None, u'metadata': {u'iso_language_code': u'en', u'result_type': u'recent'}}\n",
      "{u'contributors': None, u'truncated': False, u'text': u'RT @IndiaToday: Salman Khan acquittal: Maharashtra to challenge verdict in Supreme Court\\nhttps://t.co/oqjifwyJtp https://t.co/3KYnKnDSsU', u'is_quote_status': False, u'in_reply_to_status_id': None, u'id': 679621686300262400, u'favorite_count': 0, u'source': u'<a href=\"http://twitter.com/download/android\" rel=\"nofollow\">Twitter for Android</a>', u'retweeted': False, u'coordinates': None, u'entities': {u'symbols': [], u'user_mentions': [{u'id': 19897138, u'indices': [3, 14], u'id_str': u'19897138', u'screen_name': u'IndiaToday', u'name': u'India Today'}], u'hashtags': [], u'urls': [{u'url': u'https://t.co/oqjifwyJtp', u'indices': [89, 112], u'expanded_url': u'http://indiatoday.intoday.in/story/salman-khan-2002-hit-and-run-case-maharashtra-govt-to-challenge-in-sc/1/554152.html', u'display_url': u'indiatoday.intoday.in/story/salman-k\\u2026'}], u'media': [{u'source_user_id': 19897138, u'source_status_id_str': u'679618954231300096', u'expanded_url': u'http://twitter.com/IndiaToday/status/679618954231300096/photo/1', u'display_url': u'pic.twitter.com/3KYnKnDSsU', u'url': u'https://t.co/3KYnKnDSsU', u'media_url_https': u'https://pbs.twimg.com/media/CW591jlU0AEwCz-.jpg', u'source_user_id_str': u'19897138', u'source_status_id': 679618954231300096, u'id_str': u'679618952817856513', u'sizes': {u'large': {u'h': 404, u'resize': u'fit', u'w': 647}, u'small': {u'h': 212, u'resize': u'fit', u'w': 340}, u'medium': {u'h': 374, u'resize': u'fit', u'w': 600}, u'thumb': {u'h': 150, u'resize': u'crop', u'w': 150}}, u'indices': [113, 136], u'type': u'photo', u'id': 679618952817856513, u'media_url': u'http://pbs.twimg.com/media/CW591jlU0AEwCz-.jpg'}]}, u'in_reply_to_screen_name': None, u'in_reply_to_user_id': None, u'retweet_count': 7, u'id_str': u'679621686300262400', u'favorited': False, u'retweeted_status': {u'contributors': None, u'truncated': False, u'text': u'Salman Khan acquittal: Maharashtra to challenge verdict in Supreme Court\\nhttps://t.co/oqjifwyJtp https://t.co/3KYnKnDSsU', u'is_quote_status': False, u'in_reply_to_status_id': None, u'id': 679618954231300096, u'favorite_count': 3, u'source': u'<a href=\"http://twitter.com\" rel=\"nofollow\">Twitter Web Client</a>', u'retweeted': False, u'coordinates': None, u'entities': {u'symbols': [], u'user_mentions': [], u'hashtags': [], u'urls': [{u'url': u'https://t.co/oqjifwyJtp', u'indices': [73, 96], u'expanded_url': u'http://indiatoday.intoday.in/story/salman-khan-2002-hit-and-run-case-maharashtra-govt-to-challenge-in-sc/1/554152.html', u'display_url': u'indiatoday.intoday.in/story/salman-k\\u2026'}], u'media': [{u'expanded_url': u'http://twitter.com/IndiaToday/status/679618954231300096/photo/1', u'display_url': u'pic.twitter.com/3KYnKnDSsU', u'url': u'https://t.co/3KYnKnDSsU', u'media_url_https': u'https://pbs.twimg.com/media/CW591jlU0AEwCz-.jpg', u'id_str': u'679618952817856513', u'sizes': {u'large': {u'h': 404, u'resize': u'fit', u'w': 647}, u'small': {u'h': 212, u'resize': u'fit', u'w': 340}, u'medium': {u'h': 374, u'resize': u'fit', u'w': 600}, u'thumb': {u'h': 150, u'resize': u'crop', u'w': 150}}, u'indices': [97, 120], u'type': u'photo', u'id': 679618952817856513, u'media_url': u'http://pbs.twimg.com/media/CW591jlU0AEwCz-.jpg'}]}, u'in_reply_to_screen_name': None, u'in_reply_to_user_id': None, u'retweet_count': 7, u'id_str': u'679618954231300096', u'favorited': False, u'user': {u'follow_request_sent': False, u'has_extended_profile': False, u'profile_use_background_image': True, u'default_profile_image': False, u'id': 19897138, u'profile_background_image_url_https': u'https://abs.twimg.com/images/themes/theme1/bg.png', u'verified': True, u'profile_text_color': u'333333', u'profile_image_url_https': u'https://pbs.twimg.com/profile_images/602731929264267264/64ocjtxs_normal.png', u'profile_sidebar_fill_color': u'DDEEF6', u'entities': {u'url': {u'urls': [{u'url': u'http://t.co/ICyUpGKpTg', u'indices': [0, 22], u'expanded_url': u'http://indiatoday.in', u'display_url': u'indiatoday.in'}]}, u'description': {u'urls': [{u'url': u'http://t.co/ICyUpGKpTg', u'indices': [134, 156], u'expanded_url': u'http://indiatoday.in', u'display_url': u'indiatoday.in'}]}}, u'followers_count': 2125783, u'profile_sidebar_border_color': u'C0DEED', u'id_str': u'19897138', u'profile_background_color': u'C0DEED', u'listed_count': 3616, u'is_translation_enabled': False, u'utc_offset': 19800, u'statuses_count': 282660, u'description': u'Brings you news breaks:Exclusive political, entertainment, sports insight, unbiased-nonaligned\\n\\n\\nFollow us @IndiaToday\\n\\nOfficial URL: http://t.co/ICyUpGKpTg', u'friends_count': 224, u'location': u'India', u'profile_link_color': u'0084B4', u'profile_image_url': u'http://pbs.twimg.com/profile_images/602731929264267264/64ocjtxs_normal.png', u'following': False, u'geo_enabled': False, u'profile_banner_url': u'https://pbs.twimg.com/profile_banners/19897138/1450157989', u'profile_background_image_url': u'http://abs.twimg.com/images/themes/theme1/bg.png', u'screen_name': u'IndiaToday', u'lang': u'en', u'profile_background_tile': False, u'favourites_count': 4057, u'name': u'India Today', u'notifications': False, u'url': u'http://t.co/ICyUpGKpTg', u'created_at': u'Mon Feb 02 07:21:54 +0000 2009', u'contributors_enabled': False, u'time_zone': u'New Delhi', u'protected': False, u'default_profile': True, u'is_translator': False}, u'geo': None, u'in_reply_to_user_id_str': None, u'possibly_sensitive': False, u'lang': u'fr', u'created_at': u'Wed Dec 23 11:06:00 +0000 2015', u'in_reply_to_status_id_str': None, u'place': None, u'metadata': {u'iso_language_code': u'fr', u'result_type': u'recent'}}, u'user': {u'follow_request_sent': False, u'has_extended_profile': False, u'profile_use_background_image': True, u'default_profile_image': False, u'id': 283003937, u'profile_background_image_url_https': u'https://abs.twimg.com/images/themes/theme1/bg.png', u'verified': False, u'profile_text_color': u'333333', u'profile_image_url_https': u'https://pbs.twimg.com/profile_images/553873034512056321/Exu-LZxT_normal.jpeg', u'profile_sidebar_fill_color': u'DDEEF6', u'entities': {u'url': {u'urls': [{u'url': u'https://t.co/y5QAykqiAF', u'indices': [0, 23], u'expanded_url': u'http://harekhindustanidilmein.com', u'display_url': u'harekhindustanidilmein.com'}]}, u'description': {u'urls': []}}, u'followers_count': 2179, u'profile_sidebar_border_color': u'C0DEED', u'id_str': u'283003937', u'profile_background_color': u'C0DEED', u'listed_count': 43, u'is_translation_enabled': False, u'utc_offset': -36000, u'statuses_count': 48856, u'description': u'Nationalist. Believe in MODI-FICATION of India !!! RTs are not endorsement. VANDE MATARAM !!!', u'friends_count': 2147, u'location': u'Hindustani Dil Mein', u'profile_link_color': u'0084B4', u'profile_image_url': u'http://pbs.twimg.com/profile_images/553873034512056321/Exu-LZxT_normal.jpeg', u'following': False, u'geo_enabled': True, u'profile_banner_url': u'https://pbs.twimg.com/profile_banners/283003937/1431779301', u'profile_background_image_url': u'http://abs.twimg.com/images/themes/theme1/bg.png', u'screen_name': u'guluzp', u'lang': u'en', u'profile_background_tile': False, u'favourites_count': 11643, u'name': u'Intolerant MUMBAI', u'notifications': False, u'url': u'https://t.co/y5QAykqiAF', u'created_at': u'Sat Apr 16 11:15:27 +0000 2011', u'contributors_enabled': False, u'time_zone': u'Hawaii', u'protected': False, u'default_profile': True, u'is_translator': False}, u'geo': None, u'in_reply_to_user_id_str': None, u'possibly_sensitive': False, u'lang': u'fr', u'created_at': u'Wed Dec 23 11:16:51 +0000 2015', u'in_reply_to_status_id_str': None, u'place': None, u'metadata': {u'iso_language_code': u'fr', u'result_type': u'recent'}}\n",
      "{u'contributors': None, u'truncated': False, u'text': u'RT @taran_adarsh: No, #Sultan is NOT postponed to Diwali 2016. Confirmed for Eid 2016. Which means, #Sultan [Salman Khan] versus #Raees [SR\\u2026', u'is_quote_status': False, u'in_reply_to_status_id': None, u'id': 679621681602670594, u'favorite_count': 0, u'source': u'<a href=\"http://twitter.com/download/android\" rel=\"nofollow\">Twitter for Android</a>', u'retweeted': False, u'coordinates': None, u'entities': {u'symbols': [], u'user_mentions': [{u'id': 99642673, u'indices': [3, 16], u'id_str': u'99642673', u'screen_name': u'taran_adarsh', u'name': u'taran adarsh'}], u'hashtags': [{u'indices': [22, 29], u'text': u'Sultan'}, {u'indices': [100, 107], u'text': u'Sultan'}, {u'indices': [129, 135], u'text': u'Raees'}], u'urls': []}, u'in_reply_to_screen_name': None, u'in_reply_to_user_id': None, u'retweet_count': 286, u'id_str': u'679621681602670594', u'favorited': False, u'retweeted_status': {u'contributors': None, u'truncated': False, u'text': u'No, #Sultan is NOT postponed to Diwali 2016. Confirmed for Eid 2016. Which means, #Sultan [Salman Khan] versus #Raees [SRK] clash is on!', u'is_quote_status': False, u'in_reply_to_status_id': None, u'id': 679618992504487937, u'favorite_count': 250, u'source': u'<a href=\"http://twitter.com/#!/download/ipad\" rel=\"nofollow\">Twitter for iPad</a>', u'retweeted': False, u'coordinates': None, u'entities': {u'symbols': [], u'user_mentions': [], u'hashtags': [{u'indices': [4, 11], u'text': u'Sultan'}, {u'indices': [82, 89], u'text': u'Sultan'}, {u'indices': [111, 117], u'text': u'Raees'}], u'urls': []}, u'in_reply_to_screen_name': None, u'in_reply_to_user_id': None, u'retweet_count': 286, u'id_str': u'679618992504487937', u'favorited': False, u'user': {u'follow_request_sent': False, u'has_extended_profile': True, u'profile_use_background_image': True, u'default_profile_image': False, u'id': 99642673, u'profile_background_image_url_https': u'https://pbs.twimg.com/profile_background_images/129904606/29770_118811484812320_118811254812343_223437_5193831_n.jpg', u'verified': True, u'profile_text_color': u'080000', u'profile_image_url_https': u'https://pbs.twimg.com/profile_images/1440352704/profile_pic_taran_normal.jpg', u'profile_sidebar_fill_color': u'FCFCFC', u'entities': {u'description': {u'urls': []}}, u'followers_count': 1185240, u'profile_sidebar_border_color': u'FFFFFF', u'id_str': u'99642673', u'profile_background_color': u'FCFCFC', u'listed_count': 2493, u'is_translation_enabled': False, u'utc_offset': 19800, u'statuses_count': 22063, u'description': u'Film trade analyst. Bollywood Hungama.', u'friends_count': 196, u'location': u'Mumbai, India', u'profile_link_color': u'E30917', u'profile_image_url': u'http://pbs.twimg.com/profile_images/1440352704/profile_pic_taran_normal.jpg', u'following': False, u'geo_enabled': True, u'profile_banner_url': u'https://pbs.twimg.com/profile_banners/99642673/1450691979', u'profile_background_image_url': u'http://pbs.twimg.com/profile_background_images/129904606/29770_118811484812320_118811254812343_223437_5193831_n.jpg', u'screen_name': u'taran_adarsh', u'lang': u'en', u'profile_background_tile': True, u'favourites_count': 18, u'name': u'taran adarsh', u'notifications': False, u'url': None, u'created_at': u'Sun Dec 27 04:56:11 +0000 2009', u'contributors_enabled': False, u'time_zone': u'Mumbai', u'protected': False, u'default_profile': False, u'is_translator': False}, u'geo': None, u'in_reply_to_user_id_str': None, u'lang': u'en', u'created_at': u'Wed Dec 23 11:06:09 +0000 2015', u'in_reply_to_status_id_str': None, u'place': None, u'metadata': {u'iso_language_code': u'en', u'result_type': u'recent'}}, u'user': {u'follow_request_sent': False, u'has_extended_profile': True, u'profile_use_background_image': True, u'default_profile_image': False, u'id': 3285418854, u'profile_background_image_url_https': u'https://abs.twimg.com/images/themes/theme1/bg.png', u'verified': False, u'profile_text_color': u'333333', u'profile_image_url_https': u'https://pbs.twimg.com/profile_images/666923245044563971/I5eTnsyc_normal.jpg', u'profile_sidebar_fill_color': u'DDEEF6', u'entities': {u'description': {u'urls': []}}, u'followers_count': 184, u'profile_sidebar_border_color': u'C0DEED', u'id_str': u'3285418854', u'profile_background_color': u'C0DEED', u'listed_count': 4, u'is_translation_enabled': False, u'utc_offset': None, u'statuses_count': 13040, u'description': u'Student,Sports Enthusiast,Love Federer & Sachin ...A Bigggg Hina khan & SRK Lover...', u'friends_count': 55, u'location': u'India', u'profile_link_color': u'0084B4', u'profile_image_url': u'http://pbs.twimg.com/profile_images/666923245044563971/I5eTnsyc_normal.jpg', u'following': False, u'geo_enabled': False, u'profile_banner_url': u'https://pbs.twimg.com/profile_banners/3285418854/1442308030', u'profile_background_image_url': u'http://abs.twimg.com/images/themes/theme1/bg.png', u'screen_name': u'MitraSuchana', u'lang': u'en', u'profile_background_tile': False, u'favourites_count': 4231, u'name': u'Suchana', u'notifications': False, u'url': None, u'created_at': u'Mon Jul 20 14:30:46 +0000 2015', u'contributors_enabled': False, u'time_zone': None, u'protected': False, u'default_profile': True, u'is_translator': False}, u'geo': None, u'in_reply_to_user_id_str': None, u'lang': u'en', u'created_at': u'Wed Dec 23 11:16:50 +0000 2015', u'in_reply_to_status_id_str': None, u'place': None, u'metadata': {u'iso_language_code': u'en', u'result_type': u'recent'}}\n",
      "{u'contributors': None, u'truncated': False, u'text': u'RT @taran_adarsh: No, #Sultan is NOT postponed to Diwali 2016. Confirmed for Eid 2016. Which means, #Sultan [Salman Khan] versus #Raees [SR\\u2026', u'is_quote_status': False, u'in_reply_to_status_id': None, u'id': 679621667648180224, u'favorite_count': 0, u'source': u'<a href=\"http://twitter.com/download/android\" rel=\"nofollow\">Twitter for Android</a>', u'retweeted': False, u'coordinates': None, u'entities': {u'symbols': [], u'user_mentions': [{u'id': 99642673, u'indices': [3, 16], u'id_str': u'99642673', u'screen_name': u'taran_adarsh', u'name': u'taran adarsh'}], u'hashtags': [{u'indices': [22, 29], u'text': u'Sultan'}, {u'indices': [100, 107], u'text': u'Sultan'}, {u'indices': [129, 135], u'text': u'Raees'}], u'urls': []}, u'in_reply_to_screen_name': None, u'in_reply_to_user_id': None, u'retweet_count': 286, u'id_str': u'679621667648180224', u'favorited': False, u'retweeted_status': {u'contributors': None, u'truncated': False, u'text': u'No, #Sultan is NOT postponed to Diwali 2016. Confirmed for Eid 2016. Which means, #Sultan [Salman Khan] versus #Raees [SRK] clash is on!', u'is_quote_status': False, u'in_reply_to_status_id': None, u'id': 679618992504487937, u'favorite_count': 250, u'source': u'<a href=\"http://twitter.com/#!/download/ipad\" rel=\"nofollow\">Twitter for iPad</a>', u'retweeted': False, u'coordinates': None, u'entities': {u'symbols': [], u'user_mentions': [], u'hashtags': [{u'indices': [4, 11], u'text': u'Sultan'}, {u'indices': [82, 89], u'text': u'Sultan'}, {u'indices': [111, 117], u'text': u'Raees'}], u'urls': []}, u'in_reply_to_screen_name': None, u'in_reply_to_user_id': None, u'retweet_count': 286, u'id_str': u'679618992504487937', u'favorited': False, u'user': {u'follow_request_sent': False, u'has_extended_profile': True, u'profile_use_background_image': True, u'default_profile_image': False, u'id': 99642673, u'profile_background_image_url_https': u'https://pbs.twimg.com/profile_background_images/129904606/29770_118811484812320_118811254812343_223437_5193831_n.jpg', u'verified': True, u'profile_text_color': u'080000', u'profile_image_url_https': u'https://pbs.twimg.com/profile_images/1440352704/profile_pic_taran_normal.jpg', u'profile_sidebar_fill_color': u'FCFCFC', u'entities': {u'description': {u'urls': []}}, u'followers_count': 1185240, u'profile_sidebar_border_color': u'FFFFFF', u'id_str': u'99642673', u'profile_background_color': u'FCFCFC', u'listed_count': 2493, u'is_translation_enabled': False, u'utc_offset': 19800, u'statuses_count': 22063, u'description': u'Film trade analyst. Bollywood Hungama.', u'friends_count': 196, u'location': u'Mumbai, India', u'profile_link_color': u'E30917', u'profile_image_url': u'http://pbs.twimg.com/profile_images/1440352704/profile_pic_taran_normal.jpg', u'following': False, u'geo_enabled': True, u'profile_banner_url': u'https://pbs.twimg.com/profile_banners/99642673/1450691979', u'profile_background_image_url': u'http://pbs.twimg.com/profile_background_images/129904606/29770_118811484812320_118811254812343_223437_5193831_n.jpg', u'screen_name': u'taran_adarsh', u'lang': u'en', u'profile_background_tile': True, u'favourites_count': 18, u'name': u'taran adarsh', u'notifications': False, u'url': None, u'created_at': u'Sun Dec 27 04:56:11 +0000 2009', u'contributors_enabled': False, u'time_zone': u'Mumbai', u'protected': False, u'default_profile': False, u'is_translator': False}, u'geo': None, u'in_reply_to_user_id_str': None, u'lang': u'en', u'created_at': u'Wed Dec 23 11:06:09 +0000 2015', u'in_reply_to_status_id_str': None, u'place': None, u'metadata': {u'iso_language_code': u'en', u'result_type': u'recent'}}, u'user': {u'follow_request_sent': False, u'has_extended_profile': False, u'profile_use_background_image': True, u'default_profile_image': False, u'id': 390861278, u'profile_background_image_url_https': u'https://abs.twimg.com/images/themes/theme1/bg.png', u'verified': False, u'profile_text_color': u'333333', u'profile_image_url_https': u'https://pbs.twimg.com/profile_images/665601152059179008/IpO4JYHR_normal.jpg', u'profile_sidebar_fill_color': u'DDEEF6', u'entities': {u'description': {u'urls': []}}, u'followers_count': 103, u'profile_sidebar_border_color': u'C0DEED', u'id_str': u'390861278', u'profile_background_color': u'C0DEED', u'listed_count': 3, u'is_translation_enabled': False, u'utc_offset': None, u'statuses_count': 1356, u'description': u'#Engineering #CS \\n\\nfan of @iamsrk\\nhappy machine :)', u'friends_count': 278, u'location': u'INDIA', u'profile_link_color': u'0084B4', u'profile_image_url': u'http://pbs.twimg.com/profile_images/665601152059179008/IpO4JYHR_normal.jpg', u'following': False, u'geo_enabled': True, u'profile_banner_url': u'https://pbs.twimg.com/profile_banners/390861278/1435276235', u'profile_background_image_url': u'http://abs.twimg.com/images/themes/theme1/bg.png', u'screen_name': u'Shahilck', u'lang': u'en', u'profile_background_tile': False, u'favourites_count': 2068, u'name': u'DILWALE SHAHIL', u'notifications': False, u'url': None, u'created_at': u'Fri Oct 14 17:27:11 +0000 2011', u'contributors_enabled': False, u'time_zone': None, u'protected': False, u'default_profile': True, u'is_translator': False}, u'geo': None, u'in_reply_to_user_id_str': None, u'lang': u'en', u'created_at': u'Wed Dec 23 11:16:46 +0000 2015', u'in_reply_to_status_id_str': None, u'place': None, u'metadata': {u'iso_language_code': u'en', u'result_type': u'recent'}}\n",
      "{u'contributors': None, u'truncated': False, u'text': u\"Maharashtra govt decides to challenge Salman Khan's acquittal, SLP will be filed by State govt in SC in the first week of January\", u'is_quote_status': False, u'in_reply_to_status_id': None, u'id': 679621657791737856, u'favorite_count': 0, u'source': u'<a href=\"http://www.facebook.com/twitter\" rel=\"nofollow\">Facebook</a>', u'retweeted': False, u'coordinates': None, u'entities': {u'symbols': [], u'user_mentions': [], u'hashtags': [], u'urls': []}, u'in_reply_to_screen_name': None, u'in_reply_to_user_id': None, u'retweet_count': 0, u'id_str': u'679621657791737856', u'favorited': False, u'user': {u'follow_request_sent': False, u'has_extended_profile': True, u'profile_use_background_image': False, u'default_profile_image': False, u'id': 396355285, u'profile_background_image_url_https': u'https://pbs.twimg.com/profile_background_images/406400255/DSCN3702.JPG', u'verified': False, u'profile_text_color': u'333333', u'profile_image_url_https': u'https://pbs.twimg.com/profile_images/677813432331014144/evqWebPA_normal.jpg', u'profile_sidebar_fill_color': u'DDEEF6', u'entities': {u'description': {u'urls': []}}, u'followers_count': 763, u'profile_sidebar_border_color': u'C0DEED', u'id_str': u'396355285', u'profile_background_color': u'C0DEED', u'listed_count': 10, u'is_translation_enabled': False, u'utc_offset': None, u'statuses_count': 8882, u'description': u'Manager - Noise & Grains ; Trustee & PRO - Raindropss', u'friends_count': 1958, u'location': u'Dubai, United Arab Emirates', u'profile_link_color': u'89C9FA', u'profile_image_url': u'http://pbs.twimg.com/profile_images/677813432331014144/evqWebPA_normal.jpg', u'following': False, u'geo_enabled': False, u'profile_banner_url': u'https://pbs.twimg.com/profile_banners/396355285/1443464668', u'profile_background_image_url': u'http://pbs.twimg.com/profile_background_images/406400255/DSCN3702.JPG', u'screen_name': u'balaji_d_balaji', u'lang': u'en', u'profile_background_tile': True, u'favourites_count': 10660, u'name': u'BalajiDBalaji', u'notifications': False, u'url': None, u'created_at': u'Sun Oct 23 04:34:20 +0000 2011', u'contributors_enabled': False, u'time_zone': None, u'protected': False, u'default_profile': False, u'is_translator': False}, u'geo': None, u'in_reply_to_user_id_str': None, u'lang': u'en', u'created_at': u'Wed Dec 23 11:16:44 +0000 2015', u'in_reply_to_status_id_str': None, u'place': None, u'metadata': {u'iso_language_code': u'en', u'result_type': u'recent'}}\n",
      "{u'contributors': None, u'truncated': False, u'text': u'Hit-and-run nightmare to haunt BeingSalmanKhan again; Maha govt to move SC against his acquittal\\n\\nhttps://t.co/yK9pN6VHUs', u'is_quote_status': False, u'in_reply_to_status_id': None, u'id': 679621635838742532, u'favorite_count': 0, u'source': u'<a href=\"http://ifttt.com\" rel=\"nofollow\">IFTTT</a>', u'retweeted': False, u'coordinates': None, u'entities': {u'symbols': [], u'user_mentions': [], u'hashtags': [], u'urls': [{u'url': u'https://t.co/yK9pN6VHUs', u'indices': [98, 121], u'expanded_url': u'http://www.oneindia.com/india/hit-and-run-nightmare-haunt-salman-khan-again-maha-govt-move-sc-against-acquittal-1964394.html', u'display_url': u'oneindia.com/india/hit-and-\\u2026'}]}, u'in_reply_to_screen_name': None, u'in_reply_to_user_id': None, u'retweet_count': 0, u'id_str': u'679621635838742532', u'favorited': False, u'user': {u'follow_request_sent': False, u'has_extended_profile': False, u'profile_use_background_image': True, u'default_profile_image': False, u'id': 3311534422, u'profile_background_image_url_https': u'https://abs.twimg.com/images/themes/theme1/bg.png', u'verified': False, u'profile_text_color': u'333333', u'profile_image_url_https': u'https://pbs.twimg.com/profile_images/618370373092970496/0FvJKnQJ_normal.jpg', u'profile_sidebar_fill_color': u'DDEEF6', u'entities': {u'description': {u'urls': []}}, u'followers_count': 110, u'profile_sidebar_border_color': u'C0DEED', u'id_str': u'3311534422', u'profile_background_color': u'C0DEED', u'listed_count': 23, u'is_translation_enabled': False, u'utc_offset': None, u'statuses_count': 5084, u'description': u'Anonymous Guy working for my Hindus and my India', u'friends_count': 86, u'location': u'Hindustan', u'profile_link_color': u'0084B4', u'profile_image_url': u'http://pbs.twimg.com/profile_images/618370373092970496/0FvJKnQJ_normal.jpg', u'following': False, u'geo_enabled': False, u'profile_background_image_url': u'http://abs.twimg.com/images/themes/theme1/bg.png', u'screen_name': u'antoniakknguyk1', u'lang': u'en', u'profile_background_tile': False, u'favourites_count': 717, u'name': u'Anton Guy', u'notifications': False, u'url': None, u'created_at': u'Sun Jun 07 04:07:26 +0000 2015', u'contributors_enabled': False, u'time_zone': None, u'protected': False, u'default_profile': True, u'is_translator': False}, u'geo': None, u'in_reply_to_user_id_str': None, u'possibly_sensitive': False, u'lang': u'en', u'created_at': u'Wed Dec 23 11:16:39 +0000 2015', u'in_reply_to_status_id_str': None, u'place': None, u'metadata': {u'iso_language_code': u'en', u'result_type': u'recent'}}\n",
      "{u'contributors': None, u'truncated': False, u'text': u'Salman Khan acquittal: Maharashtra to challenge verdict in Supreme Court\\nhttps://t.co/oekwqZONKC https://t.co/lD7BHfS3nG', u'is_quote_status': False, u'in_reply_to_status_id': None, u'id': 679621624170180608, u'favorite_count': 0, u'source': u'<a href=\"http://ifttt.com\" rel=\"nofollow\">IFTTT</a>', u'retweeted': False, u'coordinates': None, u'entities': {u'symbols': [], u'user_mentions': [], u'hashtags': [], u'urls': [{u'url': u'https://t.co/oekwqZONKC', u'indices': [73, 96], u'expanded_url': u'http://indiatoday.intoday.in/story/salman-khan-2002-hit-and-run-case-maharashtra-govt-to-challenge-in-sc/1/554152.html', u'display_url': u'indiatoday.intoday.in/story/salman-k\\u2026'}], u'media': [{u'source_user_id': 19897138, u'source_status_id_str': u'679618954231300096', u'expanded_url': u'http://twitter.com/IndiaToday/status/679618954231300096/photo/1', u'display_url': u'pic.twitter.com/lD7BHfS3nG', u'url': u'https://t.co/lD7BHfS3nG', u'media_url_https': u'https://pbs.twimg.com/media/CW591jlU0AEwCz-.jpg', u'source_user_id_str': u'19897138', u'source_status_id': 679618954231300096, u'id_str': u'679618952817856513', u'sizes': {u'large': {u'h': 404, u'resize': u'fit', u'w': 647}, u'small': {u'h': 212, u'resize': u'fit', u'w': 340}, u'medium': {u'h': 374, u'resize': u'fit', u'w': 600}, u'thumb': {u'h': 150, u'resize': u'crop', u'w': 150}}, u'indices': [97, 120], u'type': u'photo', u'id': 679618952817856513, u'media_url': u'http://pbs.twimg.com/media/CW591jlU0AEwCz-.jpg'}]}, u'in_reply_to_screen_name': None, u'in_reply_to_user_id': None, u'retweet_count': 0, u'id_str': u'679621624170180608', u'favorited': False, u'user': {u'follow_request_sent': False, u'has_extended_profile': False, u'profile_use_background_image': True, u'default_profile_image': False, u'id': 3306720234, u'profile_background_image_url_https': u'https://abs.twimg.com/images/themes/theme1/bg.png', u'verified': False, u'profile_text_color': u'333333', u'profile_image_url_https': u'https://pbs.twimg.com/profile_images/670701648491114496/C7sQgOVV_normal.jpg', u'profile_sidebar_fill_color': u'DDEEF6', u'entities': {u'description': {u'urls': []}}, u'followers_count': 68, u'profile_sidebar_border_color': u'C0DEED', u'id_str': u'3306720234', u'profile_background_color': u'C0DEED', u'listed_count': 34, u'is_translation_enabled': False, u'utc_offset': None, u'statuses_count': 8534, u'description': u'namo supporter', u'friends_count': 31, u'location': u'', u'profile_link_color': u'0084B4', u'profile_image_url': u'http://pbs.twimg.com/profile_images/670701648491114496/C7sQgOVV_normal.jpg', u'following': False, u'geo_enabled': False, u'profile_background_image_url': u'http://abs.twimg.com/images/themes/theme1/bg.png', u'screen_name': u'namoindiapm985', u'lang': u'en', u'profile_background_tile': False, u'favourites_count': 249, u'name': u'India Rocks', u'notifications': False, u'url': None, u'created_at': u'Wed Aug 05 09:02:04 +0000 2015', u'contributors_enabled': False, u'time_zone': None, u'protected': False, u'default_profile': True, u'is_translator': False}, u'geo': None, u'in_reply_to_user_id_str': None, u'possibly_sensitive': False, u'lang': u'fr', u'created_at': u'Wed Dec 23 11:16:36 +0000 2015', u'in_reply_to_status_id_str': None, u'place': None, u'metadata': {u'iso_language_code': u'fr', u'result_type': u'recent'}}\n"
     ]
    }
   ],
   "source": [
    "for status in result[\"statuses\"]:\n",
    "    print(status)"
   ]
  },
  {
   "cell_type": "code",
   "execution_count": 9,
   "metadata": {
    "collapsed": false,
    "scrolled": true
   },
   "outputs": [
    {
     "ename": "UnicodeEncodeError",
     "evalue": "'ascii' codec can't encode character u'\\u2026' in position 139: ordinal not in range(128)",
     "output_type": "error",
     "traceback": [
      "\u001b[1;31m---------------------------------------------------------------------------\u001b[0m",
      "\u001b[1;31mUnicodeEncodeError\u001b[0m                        Traceback (most recent call last)",
      "\u001b[1;32m<ipython-input-9-d386cc04da44>\u001b[0m in \u001b[0;36m<module>\u001b[1;34m()\u001b[0m\n\u001b[0;32m      1\u001b[0m \u001b[1;32mfor\u001b[0m \u001b[0mstatus\u001b[0m \u001b[1;32min\u001b[0m \u001b[0mresult\u001b[0m\u001b[1;33m[\u001b[0m\u001b[1;34m\"statuses\"\u001b[0m\u001b[1;33m]\u001b[0m\u001b[1;33m:\u001b[0m\u001b[1;33m\u001b[0m\u001b[0m\n\u001b[0;32m      2\u001b[0m     print(\"user: {0} text: {1}\".format(status[\"user\"][\"name\"], \n\u001b[1;32m----> 3\u001b[1;33m                                        status[\"text\"]))\n\u001b[0m",
      "\u001b[1;31mUnicodeEncodeError\u001b[0m: 'ascii' codec can't encode character u'\\u2026' in position 139: ordinal not in range(128)"
     ]
    }
   ],
   "source": [
    "for status in result[\"statuses\"]:\n",
    "    print(\"user: {0} text: {1}\".format(status[\"user\"][\"name\"], \n",
    "                                       status[\"text\"]))"
   ]
  },
  {
   "cell_type": "code",
   "execution_count": 10,
   "metadata": {
    "collapsed": false
   },
   "outputs": [
    {
     "name": "stdout",
     "output_type": "stream",
     "text": [
      "user: Frankfurt School \n",
      " text: RT @xlth: How to unleash #datascience with an MBA? Studied @FrankfurtSchool and @CEIBS after doing research @CERN https://t.co/hX5rZXZcAw #… \n",
      "\n",
      "user: Localstars \n",
      " text: Trends for Mobile Advertising in 2016 via @adage https://t.co/p7VjtzRqen \n",
      "\n",
      "user: StartUpHire \n",
      " text: Intern - Modeling and Data Science at Quantcast in San Francisco https://t.co/TF0g45lndY #jobs #StartUpHire \n",
      "\n",
      "user: StartUpHire \n",
      " text: New Graduate - Modeling and Data Science at Quantcast in San Francisco https://t.co/dVpwqLgBSF #jobs #StartUpHire \n",
      "\n",
      "user: The DJ List Data \n",
      " text: Event: @totalscience [TOTAL SCIENCE] is playing The Buttermarket Shrewsbury on March 24 https://t.co/QKUjgV0G1J \n",
      "\n",
      "user: Mohamed Magdy Gharib \n",
      " text: RT @tech_clarity: 200 billion 'things' by 2020 = very #bigdata. Great @intel infographic on Data Science Central site: https://t.co/EyXW58V… \n",
      "\n",
      "user: Eric Bellamy \n",
      " text: University of Washington Adds Latest Data Science Degree Program - Information Management https://t.co/urEW7TMGPz #datascience \n",
      "\n",
      "user: Sal \n",
      " text: RT @ScienceChannel: Yesterday makes for good data. #science #discover https://t.co/IiE1DwZMZ5 \n",
      "\n",
      "user: Manson Ip \n",
      " text: \"5 Data Cleansing Tools - Data Science Central\" via All News on  'The Twitter Times: MansonIp' https://t.co/wlUvWL9B8C #DataScience \n",
      "\n",
      "user: Patients' Academy \n",
      " text: Netherlands open access and Italy big data @nature_sevendays https://t.co/pZwpjCQq5S \n",
      "\n",
      "user: saleem ahmed \n",
      " text: RT @EvanSinar: Great read! 22 Big Data &amp; Data Science expert predictions for 2016 https://t.co/XjKsFFke6A #datascience #bigdata https://t.c… \n",
      "\n",
      "user: Tapiwa \n",
      " text: RT @analyticbridge: Startups Innovating Data Science Platforms https://t.co/p5fRtr53BT \n",
      "\n",
      "user: BigData \n",
      " text: University of Washington Adds Latest Data Science Degree ProgramInformation ManagementThe Univers... https://t.co/dUpq620Yk4 #DataScience \n",
      "\n",
      "user: Pernille Bjorn \n",
      " text: RT @DIKU_Institut: Vacant position @DIKU_Institut: Tenure-Track Assistant Professor of Large-scale Data Science. Deadline 01-03-2016.\n",
      "https… \n",
      "\n",
      "user: Manoj R Patil \n",
      " text: 10 steps to succeed in @kaggle #datascience #competition &gt;&gt; https://t.co/ZF5wsK8U6c \n",
      "\n"
     ]
    }
   ],
   "source": [
    "result = twitter.search(q=\"data science\")\n",
    "for status in result[\"statuses\"]:\n",
    "    print(\"user: {0} \\n text: {1} \\n\".format(status[\"user\"][\"name\"].encode(\"utf-8\"), \n",
    "                                             status[\"text\"].encode(\"utf-8\")))"
   ]
  },
  {
   "cell_type": "markdown",
   "metadata": {},
   "source": [
    "More documentation at https://dev.twitter.com/rest/reference/get/search/tweets"
   ]
  },
  {
   "cell_type": "markdown",
   "metadata": {},
   "source": [
    "### Retrieving Timeline (your own)"
   ]
  },
  {
   "cell_type": "code",
   "execution_count": null,
   "metadata": {
    "collapsed": true
   },
   "outputs": [],
   "source": [
    "timeline = twitter.get_home_timeline()"
   ]
  },
  {
   "cell_type": "code",
   "execution_count": null,
   "metadata": {
    "collapsed": false
   },
   "outputs": [],
   "source": [
    "for tweet in timeline:\n",
    "    print(\" User: {0} \\n Created: {1} \\n Text: {2} \\n\".format(tweet[\"user\"][\"name\"].encode(\"utf-8\"), \n",
    "                                                            tweet[\"created_at\"].encode(\"utf-8\"), \n",
    "                                                            tweet[\"text\"].encode(\"utf-8\")))"
   ]
  },
  {
   "cell_type": "markdown",
   "metadata": {},
   "source": [
    "### Retrieving Timeline (other users)"
   ]
  },
  {
   "cell_type": "code",
   "execution_count": null,
   "metadata": {
    "collapsed": false
   },
   "outputs": [],
   "source": [
    "tl = twitter.get_user_timeline(screen_name = \"iamsrk\", count = 5)\n",
    "for tweet in tl:\n",
    "    print(\" User: {0} \\n Created: {1} \\n Text: {2} \\n\".format(tweet[\"user\"][\"name\"].encode(\"utf-8\"),\n",
    "                                                            tweet[\"created_at\"].encode(\"utf-8\"),\n",
    "                                                            tweet[\"text\"].encode(\"utf-8\")))"
   ]
  },
  {
   "cell_type": "markdown",
   "metadata": {},
   "source": [
    "* [Official Documentation for home timeline](https://dev.twitter.com/rest/reference/get/statuses/home_timeline)\n",
    "* [Offician Documentation for (other) user timeline](https://dev.twitter.com/rest/reference/get/statuses/user_timeline)"
   ]
  },
  {
   "cell_type": "markdown",
   "metadata": {},
   "source": [
    "### Get a list of followers"
   ]
  },
  {
   "cell_type": "code",
   "execution_count": null,
   "metadata": {
    "collapsed": true
   },
   "outputs": [],
   "source": [
    "followers = twitter.get_followers_list(screen_name=\"dataBiryani\")"
   ]
  },
  {
   "cell_type": "code",
   "execution_count": null,
   "metadata": {
    "collapsed": false
   },
   "outputs": [],
   "source": [
    "for follower in followers[\"users\"]:\n",
    "    print(\" {0} \\n \".format(follower))"
   ]
  },
  {
   "cell_type": "code",
   "execution_count": null,
   "metadata": {
    "collapsed": false
   },
   "outputs": [],
   "source": [
    "for follower in followers[\"users\"]:\n",
    "    print(\" user: {0} \\n name: {1} \\n Number of tweets: {2} \\n\".format(follower[\"screen_name\"],\n",
    "                                                                       follower[\"name\"],\n",
    "                                                                       follower[\"statuses_count\"]))"
   ]
  },
  {
   "cell_type": "markdown",
   "metadata": {},
   "source": [
    "# Setiment Classification"
   ]
  },
  {
   "cell_type": "markdown",
   "metadata": {},
   "source": [
    "## What is Sentiment Classification?"
   ]
  },
  {
   "cell_type": "markdown",
   "metadata": {},
   "source": [
    "Sentiment classification is a special task of text classification whose objective is to classify a text according to the sentimental polarities of opinions it contains - favorable or unfavorable, positive or negative."
   ]
  },
  {
   "cell_type": "markdown",
   "metadata": {},
   "source": [
    "<img src=\"sentiment_classification_process.png\">"
   ]
  },
  {
   "cell_type": "markdown",
   "metadata": {},
   "source": [
    "## Dataset"
   ]
  },
  {
   "cell_type": "markdown",
   "metadata": {},
   "source": [
    "### Affective Norms for English Words"
   ]
  },
  {
   "cell_type": "markdown",
   "metadata": {},
   "source": [
    "*  The ANEW provides a set of normative emotional ratings as a text corpus for a large number of words in the English language.\n",
    "* These sets of verbal materials have been rated in terms of pleasure, arousal, and dominance, in order to create a standard for use in studies of emotion and attention."
   ]
  },
  {
   "cell_type": "markdown",
   "metadata": {
    "collapsed": true
   },
   "source": [
    "### Sentiment140"
   ]
  },
  {
   "cell_type": "markdown",
   "metadata": {
    "collapsed": true
   },
   "source": [
    "* http://help.sentiment140.com/for-students\n",
    "* Download link\n",
    "    - http://cs.stanford.edu/people/alecmgo/trainingandtestdata.zip\n",
    "    - (mirror) https://docs.google.com/file/d/0B04GJPshIjmPRnZManQwWEdTZjg/edit\n",
    "* The data has been processed so that the emoticons are stripped off.\n",
    "* CSV format\n",
    "* Data file format has 6 fields:\n",
    "    - 0 - the polarity of the tweet (0 = negative, 2 = neutral, 4 = positive)\n",
    "    - 1 - the id of the tweet (2087)\n",
    "    - 2 - the date of the tweet (Sat May 16 23:58:44 UTC 2009)\n",
    "    - 3 - the query (lyx). If there is no query, then this value is NO_QUERY.\n",
    "    - 4 - the user that tweeted (robotickilldozr)\n",
    "    - 5 - the text of the tweet (Lyx is cool)"
   ]
  },
  {
   "cell_type": "markdown",
   "metadata": {
    "collapsed": true
   },
   "source": [
    "## NLTK"
   ]
  },
  {
   "cell_type": "code",
   "execution_count": null,
   "metadata": {
    "collapsed": false
   },
   "outputs": [],
   "source": [
    "import nltk\n",
    "nltk.download() # Models > punkt"
   ]
  },
  {
   "cell_type": "code",
   "execution_count": null,
   "metadata": {
    "collapsed": false
   },
   "outputs": [],
   "source": [
    "nltk.word_tokenize(\"Busy day ahead of me. Also just remembered that I left peah slices in the fridge at work on Friday. \")"
   ]
  },
  {
   "cell_type": "code",
   "execution_count": null,
   "metadata": {
    "collapsed": true
   },
   "outputs": [],
   "source": [
    "def bagOfWords(tweets):\n",
    "    wordsList = []\n",
    "    for (words, sentiment) in tweets:\n",
    "        wordsList.extend(words)\n",
    "return wordsList"
   ]
  },
  {
   "cell_type": "code",
   "execution_count": null,
   "metadata": {
    "collapsed": true
   },
   "outputs": [],
   "source": [
    "def wordFeatures(wordList):\n",
    "    wordList = nltk.FreqDist(wordList)\n",
    "    wordFeatures = wordList.keys()\n",
    "    return wordFeatures"
   ]
  },
  {
   "cell_type": "code",
   "execution_count": null,
   "metadata": {
    "collapsed": true
   },
   "outputs": [],
   "source": [
    "def getFeatures(doc):\n",
    "    docWords = set(doc)\n",
    "    feat = {}\n",
    "    for word in wordFeatures:\n",
    "        feat['contains(%s)' % word] = (word in docWords)\n",
    "    return feat"
   ]
  },
  {
   "cell_type": "code",
   "execution_count": null,
   "metadata": {
    "collapsed": true
   },
   "outputs": [],
   "source": [
    "# Fill these up with values from Sentiment140 dataset\n",
    "positiveTweets = ???\n",
    "negativeTweets = ???"
   ]
  },
  {
   "cell_type": "code",
   "execution_count": null,
   "metadata": {
    "collapsed": true
   },
   "outputs": [],
   "source": [
    "corpusOfTweets = []\n",
    "for (words, sentiment) in positiveTweets + negativeTweets:\n",
    "    wordsFiltered = [e.lower() for e in nltk.word_tokenize(words) if len(e) >= 3]\n",
    "    tweets.append((wordsFiltered, sentiment))"
   ]
  },
  {
   "cell_type": "code",
   "execution_count": null,
   "metadata": {
    "collapsed": false
   },
   "outputs": [],
   "source": [
    "wordFeatures = wordFeatures(bagOfWords(corpusOfTweets))\n",
    "training = nltk.classify.apply_features(getFeatures, corpusOfTweets)\n",
    "classifier = nltk.NaiveBayesClassifier.train(training)\n",
    "print(classifier.show_most_informative_features(32))"
   ]
  },
  {
   "cell_type": "markdown",
   "metadata": {},
   "source": [
    "**Predicting Sentiment of new Tweets**"
   ]
  },
  {
   "cell_type": "code",
   "execution_count": null,
   "metadata": {
    "collapsed": true
   },
   "outputs": [],
   "source": [
    "from twython import Twython\n",
    "\n",
    "twitter = Twython(ConsumerKey, ConsumerSecret, AccessToken, AccessTokenSecret)\n",
    "\n",
    "result = twitter.search(q=\"python\")\n",
    "\n",
    "for status in result[\"statuses\"]:\n",
    "    print(\"Tweet: {0} \\n Sentiment: {1}\".format(status[\"text\"], \n",
    "                                                classifier.classify(extract_features(status[\"text\"].split()))))"
   ]
  },
  {
   "cell_type": "markdown",
   "metadata": {
    "collapsed": true
   },
   "source": [
    "# What Next?"
   ]
  },
  {
   "cell_type": "markdown",
   "metadata": {
    "collapsed": true
   },
   "source": [
    "## The Assignment"
   ]
  },
  {
   "cell_type": "markdown",
   "metadata": {},
   "source": [
    "1. Write a blog post on how to use **OR** operator for find queries in mongodb.\n",
    "2. Feed negative and positive tweets to the classification function for training. (using the Sentiment140 dataset)\n",
    "3. Crawl all followers of ***naveen_odisha***, Odisha CM (note: you'll have to pay attention to rate limiting)\n",
    "4. Crawl all followers of SRK. How can you calculate if this is feasible or not? (show the math)\n",
    "5. Predict the sentiment of tweets by followers of ***naveen_odisha*** "
   ]
  }
 ],
 "metadata": {
  "kernelspec": {
   "display_name": "Python 2",
   "language": "python",
   "name": "python2"
  },
  "language_info": {
   "codemirror_mode": {
    "name": "ipython",
    "version": 2
   },
   "file_extension": ".py",
   "mimetype": "text/x-python",
   "name": "python",
   "nbconvert_exporter": "python",
   "pygments_lexer": "ipython2",
   "version": "2.7.11"
  }
 },
 "nbformat": 4,
 "nbformat_minor": 0
}
